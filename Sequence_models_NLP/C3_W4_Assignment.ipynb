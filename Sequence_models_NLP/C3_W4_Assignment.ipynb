{
  "cells": [
    {
      "cell_type": "markdown",
      "metadata": {
        "id": "-Jv7Y4hXwt0j"
      },
      "source": [
        "# Assignment 4:  Question duplicates\n",
        "\n",
        "Welcome to the fourth assignment of course 3. In this assignment you will explore Siamese networks applied to natural language processing. You will further explore the fundamentals of Trax and you will be able to implement a more complicated structure using it. By completing this assignment, you will learn how to implement models with different architectures. \n",
        "\n",
        "## Outline\n",
        "\n",
        "- [Overview](#0)\n",
        "- [Part 1: Importing the Data](#1)\n",
        "    - [1.1 Loading in the data](#1.1)\n",
        "    - [1.2 Converting a question to a tensor](#1.2)\n",
        "    - [1.3 Understanding the iterator](#1.3)\n",
        "        - [Exercise 01](#ex01)\n",
        "- [Part 2: Defining the Siamese model](#2)\n",
        "    - [2.1 Understanding Siamese Network](#2.1)\n",
        "        - [Exercise 02](#ex02)\n",
        "    - [2.2 Hard  Negative Mining](#2.2)\n",
        "        - [Exercise 03](#ex03)\n",
        "- [Part 3: Training](#3)\n",
        "    - [3.1 Training the model](#3.1)\n",
        "        - [Exercise 04](#ex04)\n",
        "- [Part 4: Evaluation](#4)\n",
        "    - [4.1 Evaluating your siamese network](#4.1)\n",
        "    - [4.2 Classify](#4.2)\n",
        "        - [Exercise 05](#ex05)\n",
        "- [Part 5: Testing with your own questions](#5)\n",
        "    - [Exercise 06](#ex06)\n",
        "- [On Siamese networks](#6)\n",
        "\n",
        "<a name='0'></a>\n",
        "### Overview\n",
        "In this assignment, concretely you will: \n",
        "\n",
        "- Learn about Siamese networks\n",
        "- Understand how the triplet loss works\n",
        "- Understand how to evaluate accuracy\n",
        "- Use cosine similarity between the model's outputted vectors\n",
        "- Use the data generator to get batches of questions\n",
        "- Predict using your own model\n",
        "\n",
        "By now, you are familiar with trax and know how to make use of classes to define your model. We will start this homework by asking you to preprocess the data the same way you did in the previous assignments. After processing the data you will build a classifier that will allow you to identify whether to questions are the same or not. \n",
        "<img src = \"meme.png\" style=\"width:550px;height:300px;\"/>\n",
        "\n",
        "\n",
        "You will process the data first and then pad in a similar way you have done in the previous assignment. Your model will take in the two question embeddings, run them through an LSTM, and then compare the outputs of the two sub networks using cosine similarity. Before taking a deep dive into the model, start by importing the data set.\n"
      ]
    },
    {
      "cell_type": "markdown",
      "metadata": {
        "id": "4sF9Hqzgwt0l"
      },
      "source": [
        "<a name='1'></a>\n",
        "# Part 1: Importing the Data\n",
        "<a name='1.1'></a>\n",
        "### 1.1 Loading in the data\n",
        "\n",
        "You will be using the Quora question answer dataset to build a model that could identify similar questions. This is a useful task because you don't want to have several versions of the same question posted. Several times when teaching I end up responding to similar questions on piazza, or on other community forums. This data set has been labeled for you. Run the cell below to import some of the packages you will be using. "
      ]
    },
    {
      "cell_type": "code",
      "source": [
        "from google.colab import drive\n",
        "drive.mount('/content/drive')"
      ],
      "metadata": {
        "colab": {
          "base_uri": "https://localhost:8080/"
        },
        "id": "HLPncgWUIFB7",
        "outputId": "2919ef96-317f-4118-917f-61e4336b15c4"
      },
      "execution_count": 30,
      "outputs": [
        {
          "output_type": "stream",
          "name": "stdout",
          "text": [
            "Drive already mounted at /content/drive; to attempt to forcibly remount, call drive.mount(\"/content/drive\", force_remount=True).\n"
          ]
        }
      ]
    },
    {
      "cell_type": "code",
      "source": [
        "# !pip install trax"
      ],
      "metadata": {
        "id": "49AwLg2xIpqp"
      },
      "execution_count": 31,
      "outputs": []
    },
    {
      "cell_type": "code",
      "execution_count": 32,
      "metadata": {
        "id": "zdACgs491cs2"
      },
      "outputs": [],
      "source": [
        "import os\n",
        "import nltk\n",
        "import trax\n",
        "from trax import layers as tl\n",
        "from trax.supervised import training\n",
        "from trax.fastmath import numpy as fastnp\n",
        "import numpy as np\n",
        "import pandas as pd\n",
        "import random as rnd\n",
        "\n",
        "# set random seeds\n",
        "# trax.supervised.trainer_lib.init_random_number_generators(34)\n",
        "rnd.seed(34)"
      ]
    },
    {
      "cell_type": "code",
      "source": [
        "!cp '/content/drive/MyDrive/Data/questions.csv' ."
      ],
      "metadata": {
        "id": "yG9mcIlAOUbx"
      },
      "execution_count": 33,
      "outputs": []
    },
    {
      "cell_type": "markdown",
      "metadata": {
        "id": "3GYhQRMspitx"
      },
      "source": [
        "**Notice that for this assignment Trax's numpy is referred to as `fastnp`, while regular numpy is referred to as `np`.**\n",
        "\n",
        "You will now load in the data set. We have done some preprocessing for you. If you have taken the deeplearning specialization, this is a slightly different training method than the one you have seen there. If you have not, then don't worry about it, we will explain everything. "
      ]
    },
    {
      "cell_type": "code",
      "execution_count": 34,
      "metadata": {
        "colab": {
          "base_uri": "https://localhost:8080/",
          "height": 225
        },
        "id": "sXWBVGWnpity",
        "outputId": "de13419d-ec8f-4aac-f7ff-3443b014a33a"
      },
      "outputs": [
        {
          "output_type": "stream",
          "name": "stdout",
          "text": [
            "Number of question pairs:  404290\n"
          ]
        },
        {
          "output_type": "execute_result",
          "data": {
            "text/html": [
              "\n",
              "  <div id=\"df-342e21d2-565d-40c2-8988-372bee117fe9\">\n",
              "    <div class=\"colab-df-container\">\n",
              "      <div>\n",
              "<style scoped>\n",
              "    .dataframe tbody tr th:only-of-type {\n",
              "        vertical-align: middle;\n",
              "    }\n",
              "\n",
              "    .dataframe tbody tr th {\n",
              "        vertical-align: top;\n",
              "    }\n",
              "\n",
              "    .dataframe thead th {\n",
              "        text-align: right;\n",
              "    }\n",
              "</style>\n",
              "<table border=\"1\" class=\"dataframe\">\n",
              "  <thead>\n",
              "    <tr style=\"text-align: right;\">\n",
              "      <th></th>\n",
              "      <th>id</th>\n",
              "      <th>qid1</th>\n",
              "      <th>qid2</th>\n",
              "      <th>question1</th>\n",
              "      <th>question2</th>\n",
              "      <th>is_duplicate</th>\n",
              "    </tr>\n",
              "  </thead>\n",
              "  <tbody>\n",
              "    <tr>\n",
              "      <th>0</th>\n",
              "      <td>0</td>\n",
              "      <td>1</td>\n",
              "      <td>2</td>\n",
              "      <td>What is the step by step guide to invest in sh...</td>\n",
              "      <td>What is the step by step guide to invest in sh...</td>\n",
              "      <td>0</td>\n",
              "    </tr>\n",
              "    <tr>\n",
              "      <th>1</th>\n",
              "      <td>1</td>\n",
              "      <td>3</td>\n",
              "      <td>4</td>\n",
              "      <td>What is the story of Kohinoor (Koh-i-Noor) Dia...</td>\n",
              "      <td>What would happen if the Indian government sto...</td>\n",
              "      <td>0</td>\n",
              "    </tr>\n",
              "    <tr>\n",
              "      <th>2</th>\n",
              "      <td>2</td>\n",
              "      <td>5</td>\n",
              "      <td>6</td>\n",
              "      <td>How can I increase the speed of my internet co...</td>\n",
              "      <td>How can Internet speed be increased by hacking...</td>\n",
              "      <td>0</td>\n",
              "    </tr>\n",
              "    <tr>\n",
              "      <th>3</th>\n",
              "      <td>3</td>\n",
              "      <td>7</td>\n",
              "      <td>8</td>\n",
              "      <td>Why am I mentally very lonely? How can I solve...</td>\n",
              "      <td>Find the remainder when [math]23^{24}[/math] i...</td>\n",
              "      <td>0</td>\n",
              "    </tr>\n",
              "    <tr>\n",
              "      <th>4</th>\n",
              "      <td>4</td>\n",
              "      <td>9</td>\n",
              "      <td>10</td>\n",
              "      <td>Which one dissolve in water quikly sugar, salt...</td>\n",
              "      <td>Which fish would survive in salt water?</td>\n",
              "      <td>0</td>\n",
              "    </tr>\n",
              "  </tbody>\n",
              "</table>\n",
              "</div>\n",
              "      <button class=\"colab-df-convert\" onclick=\"convertToInteractive('df-342e21d2-565d-40c2-8988-372bee117fe9')\"\n",
              "              title=\"Convert this dataframe to an interactive table.\"\n",
              "              style=\"display:none;\">\n",
              "        \n",
              "  <svg xmlns=\"http://www.w3.org/2000/svg\" height=\"24px\"viewBox=\"0 0 24 24\"\n",
              "       width=\"24px\">\n",
              "    <path d=\"M0 0h24v24H0V0z\" fill=\"none\"/>\n",
              "    <path d=\"M18.56 5.44l.94 2.06.94-2.06 2.06-.94-2.06-.94-.94-2.06-.94 2.06-2.06.94zm-11 1L8.5 8.5l.94-2.06 2.06-.94-2.06-.94L8.5 2.5l-.94 2.06-2.06.94zm10 10l.94 2.06.94-2.06 2.06-.94-2.06-.94-.94-2.06-.94 2.06-2.06.94z\"/><path d=\"M17.41 7.96l-1.37-1.37c-.4-.4-.92-.59-1.43-.59-.52 0-1.04.2-1.43.59L10.3 9.45l-7.72 7.72c-.78.78-.78 2.05 0 2.83L4 21.41c.39.39.9.59 1.41.59.51 0 1.02-.2 1.41-.59l7.78-7.78 2.81-2.81c.8-.78.8-2.07 0-2.86zM5.41 20L4 18.59l7.72-7.72 1.47 1.35L5.41 20z\"/>\n",
              "  </svg>\n",
              "      </button>\n",
              "      \n",
              "  <style>\n",
              "    .colab-df-container {\n",
              "      display:flex;\n",
              "      flex-wrap:wrap;\n",
              "      gap: 12px;\n",
              "    }\n",
              "\n",
              "    .colab-df-convert {\n",
              "      background-color: #E8F0FE;\n",
              "      border: none;\n",
              "      border-radius: 50%;\n",
              "      cursor: pointer;\n",
              "      display: none;\n",
              "      fill: #1967D2;\n",
              "      height: 32px;\n",
              "      padding: 0 0 0 0;\n",
              "      width: 32px;\n",
              "    }\n",
              "\n",
              "    .colab-df-convert:hover {\n",
              "      background-color: #E2EBFA;\n",
              "      box-shadow: 0px 1px 2px rgba(60, 64, 67, 0.3), 0px 1px 3px 1px rgba(60, 64, 67, 0.15);\n",
              "      fill: #174EA6;\n",
              "    }\n",
              "\n",
              "    [theme=dark] .colab-df-convert {\n",
              "      background-color: #3B4455;\n",
              "      fill: #D2E3FC;\n",
              "    }\n",
              "\n",
              "    [theme=dark] .colab-df-convert:hover {\n",
              "      background-color: #434B5C;\n",
              "      box-shadow: 0px 1px 3px 1px rgba(0, 0, 0, 0.15);\n",
              "      filter: drop-shadow(0px 1px 2px rgba(0, 0, 0, 0.3));\n",
              "      fill: #FFFFFF;\n",
              "    }\n",
              "  </style>\n",
              "\n",
              "      <script>\n",
              "        const buttonEl =\n",
              "          document.querySelector('#df-342e21d2-565d-40c2-8988-372bee117fe9 button.colab-df-convert');\n",
              "        buttonEl.style.display =\n",
              "          google.colab.kernel.accessAllowed ? 'block' : 'none';\n",
              "\n",
              "        async function convertToInteractive(key) {\n",
              "          const element = document.querySelector('#df-342e21d2-565d-40c2-8988-372bee117fe9');\n",
              "          const dataTable =\n",
              "            await google.colab.kernel.invokeFunction('convertToInteractive',\n",
              "                                                     [key], {});\n",
              "          if (!dataTable) return;\n",
              "\n",
              "          const docLinkHtml = 'Like what you see? Visit the ' +\n",
              "            '<a target=\"_blank\" href=https://colab.research.google.com/notebooks/data_table.ipynb>data table notebook</a>'\n",
              "            + ' to learn more about interactive tables.';\n",
              "          element.innerHTML = '';\n",
              "          dataTable['output_type'] = 'display_data';\n",
              "          await google.colab.output.renderOutput(dataTable, element);\n",
              "          const docLink = document.createElement('div');\n",
              "          docLink.innerHTML = docLinkHtml;\n",
              "          element.appendChild(docLink);\n",
              "        }\n",
              "      </script>\n",
              "    </div>\n",
              "  </div>\n",
              "  "
            ],
            "text/plain": [
              "   id  qid1  ...                                          question2 is_duplicate\n",
              "0   0     1  ...  What is the step by step guide to invest in sh...            0\n",
              "1   1     3  ...  What would happen if the Indian government sto...            0\n",
              "2   2     5  ...  How can Internet speed be increased by hacking...            0\n",
              "3   3     7  ...  Find the remainder when [math]23^{24}[/math] i...            0\n",
              "4   4     9  ...            Which fish would survive in salt water?            0\n",
              "\n",
              "[5 rows x 6 columns]"
            ]
          },
          "metadata": {},
          "execution_count": 34
        }
      ],
      "source": [
        "data = pd.read_csv(\"questions.csv\")\n",
        "N=len(data)\n",
        "print('Number of question pairs: ', N)\n",
        "data.head()"
      ]
    },
    {
      "cell_type": "markdown",
      "metadata": {
        "id": "gkSQTu7Ypit0"
      },
      "source": [
        "We first split the data into a train and test set. The test set will be used later to evaluate our model."
      ]
    },
    {
      "cell_type": "code",
      "execution_count": 35,
      "metadata": {
        "colab": {
          "base_uri": "https://localhost:8080/"
        },
        "id": "z00A7vEMpit1",
        "outputId": "95327d3b-9fb8-47bb-9792-fffc36579447"
      },
      "outputs": [
        {
          "output_type": "stream",
          "name": "stdout",
          "text": [
            "Train set: 300000 Test set: 10240\n"
          ]
        }
      ],
      "source": [
        "N_train = 300000\n",
        "N_test  = 10*1024\n",
        "data_train = data[:N_train]\n",
        "data_test  = data[N_train:N_train+N_test]\n",
        "print(\"Train set:\", len(data_train), \"Test set:\", len(data_test))\n",
        "del(data) # remove to free memory"
      ]
    },
    {
      "cell_type": "markdown",
      "metadata": {
        "id": "FbqIRRyEpit4"
      },
      "source": [
        "As explained in the lectures, we select only the question pairs that are duplicate to train the model. <br>\n",
        "We build two batches as input for the Siamese network and we assume that question $q1_i$ (question $i$ in the first batch) is a duplicate of $q2_i$ (question $i$ in the second batch), but all other questions in the second batch are not duplicates of $q1_i$.  \n",
        "The test set uses the original pairs of questions and the status describing if the questions are duplicates."
      ]
    },
    {
      "cell_type": "code",
      "execution_count": 36,
      "metadata": {
        "colab": {
          "base_uri": "https://localhost:8080/"
        },
        "id": "Xi_TwXxxpit4",
        "outputId": "7943574e-7cc8-486d-d352-ad24bfc87196"
      },
      "outputs": [
        {
          "output_type": "stream",
          "name": "stdout",
          "text": [
            "number of duplicate questions:  111473\n",
            "indexes of first ten duplicate questions: [5, 7, 11, 12, 13, 15, 16, 18, 20, 29]\n"
          ]
        }
      ],
      "source": [
        "td_index = (data_train['is_duplicate'] == 1).to_numpy()\n",
        "td_index = [i for i, x in enumerate(td_index) if x] \n",
        "print('number of duplicate questions: ', len(td_index))\n",
        "print('indexes of first ten duplicate questions:', td_index[:10])"
      ]
    },
    {
      "cell_type": "code",
      "execution_count": 37,
      "metadata": {
        "colab": {
          "base_uri": "https://localhost:8080/"
        },
        "id": "3I9oXSsKpit7",
        "outputId": "76573050-dcd0-40f6-c982-3297bc5e1d75"
      },
      "outputs": [
        {
          "output_type": "stream",
          "name": "stdout",
          "text": [
            "Astrology: I am a Capricorn Sun Cap moon and cap rising...what does that say about me?\n",
            "I'm a triple Capricorn (Sun, Moon and ascendant in Capricorn) What does this say about me?\n",
            "is_duplicate:  1\n"
          ]
        }
      ],
      "source": [
        "print(data_train['question1'][5])  #  Example of question duplicates (first one in data)\n",
        "print(data_train['question2'][5])\n",
        "print('is_duplicate: ', data_train['is_duplicate'][5])"
      ]
    },
    {
      "cell_type": "code",
      "execution_count": 38,
      "metadata": {
        "id": "XHpZO58Dss_v"
      },
      "outputs": [],
      "source": [
        "Q1_train_words = np.array(data_train['question1'][td_index])\n",
        "Q2_train_words = np.array(data_train['question2'][td_index])\n",
        "# print(Q1_train_words[:5])\n",
        "# print(Q2_train_words[:5])\n",
        "\n",
        "Q1_test_words = np.array(data_test['question1'])\n",
        "Q2_test_words = np.array(data_test['question2'])\n",
        "y_test  = np.array(data_test['is_duplicate'])"
      ]
    },
    {
      "cell_type": "markdown",
      "metadata": {
        "id": "P5vBkxunpiuB"
      },
      "source": [
        "Above, you have seen that you only took the duplicated questions for training our model. <br>You did so on purpose, because the data generator will produce batches $([q1_1, q1_2, q1_3, ...]$, $[q2_1, q2_2,q2_3, ...])$  where $q1_i$ and $q2_k$ are duplicate if and only if $i = k$.\n",
        "\n",
        "<br>Let's print to see what your data looks like."
      ]
    },
    {
      "cell_type": "code",
      "execution_count": 39,
      "metadata": {
        "colab": {
          "base_uri": "https://localhost:8080/"
        },
        "id": "joyrS1XEpLWn",
        "outputId": "6ff897ff-338d-400b-ac92-d6b56abfdae8"
      },
      "outputs": [
        {
          "output_type": "stream",
          "name": "stdout",
          "text": [
            "TRAINING QUESTIONS:\n",
            "\n",
            "Question 1:  Astrology: I am a Capricorn Sun Cap moon and cap rising...what does that say about me?\n",
            "Question 2:  I'm a triple Capricorn (Sun, Moon and ascendant in Capricorn) What does this say about me? \n",
            "\n",
            "Question 1:  What would a Trump presidency mean for current international master’s students on an F1 visa?\n",
            "Question 2:  How will a Trump presidency affect the students presently in US or planning to study in US? \n",
            "\n",
            "TESTING QUESTIONS:\n",
            "\n",
            "Question 1:  What were some of the troubles you have faced during and after your 9 months period of pregnancy?\n",
            "Question 2:  What is the difference between neural circuit and neural system? \n",
            "\n",
            "is_duplicate = 0 \n",
            "\n"
          ]
        }
      ],
      "source": [
        "print('TRAINING QUESTIONS:\\n')\n",
        "print('Question 1: ', Q1_train_words[0])\n",
        "print('Question 2: ', Q2_train_words[0], '\\n')\n",
        "print('Question 1: ', Q1_train_words[5])\n",
        "print('Question 2: ', Q2_train_words[5], '\\n')\n",
        "\n",
        "print('TESTING QUESTIONS:\\n')\n",
        "print('Question 1: ', Q1_test_words[0])\n",
        "print('Question 2: ', Q2_test_words[0], '\\n')\n",
        "print('is_duplicate =', y_test[0], '\\n')"
      ]
    },
    {
      "cell_type": "markdown",
      "metadata": {
        "id": "WC_BZU3XpiuF"
      },
      "source": [
        "You will now encode each word of the selected duplicate pairs with an index. <br> Given a question, you can then just encode it as a list of numbers.  \n",
        "\n",
        "First you tokenize the questions using `nltk.word_tokenize`. <br>\n",
        "You need a python default dictionary which later, during inference, assigns the values $0$ to all Out Of Vocabulary (OOV) words.<br>\n",
        "Then you encode each word of the selected duplicate pairs with an index. Given a question, you can then just encode it as a list of numbers. "
      ]
    },
    {
      "cell_type": "code",
      "execution_count": 40,
      "metadata": {
        "colab": {
          "base_uri": "https://localhost:8080/"
        },
        "id": "QbCoIgLQpiuF",
        "outputId": "301f0564-0bfe-4114-849c-8585677f1b7a"
      },
      "outputs": [
        {
          "output_type": "stream",
          "name": "stdout",
          "text": [
            "True\n"
          ]
        }
      ],
      "source": [
        "#create arrays\n",
        "Q1_train = np.empty_like(Q1_train_words)\n",
        "Q2_train = np.empty_like(Q2_train_words)\n",
        "print(len(Q1_train) == len(Q1_train_words))\n",
        "Q1_test = np.empty_like(Q1_test_words)\n",
        "Q2_test = np.empty_like(Q2_test_words)"
      ]
    },
    {
      "cell_type": "code",
      "source": [
        "nltk.download('punkt')"
      ],
      "metadata": {
        "colab": {
          "base_uri": "https://localhost:8080/"
        },
        "id": "hS_lVdc9uL3U",
        "outputId": "58c0007a-c167-489a-ac08-9048e9faaf82"
      },
      "execution_count": 41,
      "outputs": [
        {
          "output_type": "stream",
          "name": "stdout",
          "text": [
            "[nltk_data] Downloading package punkt to /root/nltk_data...\n",
            "[nltk_data]   Package punkt is already up-to-date!\n"
          ]
        },
        {
          "output_type": "execute_result",
          "data": {
            "text/plain": [
              "True"
            ]
          },
          "metadata": {},
          "execution_count": 41
        }
      ]
    },
    {
      "cell_type": "code",
      "execution_count": 42,
      "metadata": {
        "colab": {
          "base_uri": "https://localhost:8080/"
        },
        "id": "m9ZmfpGWpiuI",
        "outputId": "70b135af-0ea6-4f74-bc60-1d067c9c136f"
      },
      "outputs": [
        {
          "output_type": "stream",
          "name": "stdout",
          "text": [
            "The length of the vocabulary is:  36352\n"
          ]
        }
      ],
      "source": [
        "# Building the vocabulary with the train set         (this might take a minute)\n",
        "from collections import defaultdict\n",
        "\n",
        "vocab = defaultdict(lambda: 0)\n",
        "vocab['<PAD>'] = 1\n",
        "\n",
        "for idx in range(len(Q1_train_words)):\n",
        "    Q1_train[idx] = nltk.word_tokenize(Q1_train_words[idx])\n",
        "    Q2_train[idx] = nltk.word_tokenize(Q2_train_words[idx])\n",
        "    q = Q1_train[idx] + Q2_train[idx]\n",
        "    for word in q:\n",
        "        if word not in vocab:\n",
        "            vocab[word] = len(vocab) + 1\n",
        "print('The length of the vocabulary is: ', len(vocab))"
      ]
    },
    {
      "cell_type": "code",
      "execution_count": 43,
      "metadata": {
        "colab": {
          "base_uri": "https://localhost:8080/"
        },
        "id": "TTMRF8eZpiuK",
        "outputId": "e584468a-95cd-4a66-d09c-8302723d550d"
      },
      "outputs": [
        {
          "output_type": "stream",
          "name": "stdout",
          "text": [
            "1\n",
            "15\n",
            "0\n"
          ]
        }
      ],
      "source": [
        "print(vocab['<PAD>'])\n",
        "print(vocab['what'])\n",
        "print(vocab['Astronomy'])  #not in vocabulary, returns 0"
      ]
    },
    {
      "cell_type": "code",
      "execution_count": 44,
      "metadata": {
        "id": "5sDs36m81g6f"
      },
      "outputs": [],
      "source": [
        "for idx in range(len(Q1_test_words)): \n",
        "    Q1_test[idx] = nltk.word_tokenize(Q1_test_words[idx])\n",
        "    Q2_test[idx] = nltk.word_tokenize(Q2_test_words[idx])"
      ]
    },
    {
      "cell_type": "code",
      "execution_count": 45,
      "metadata": {
        "colab": {
          "base_uri": "https://localhost:8080/"
        },
        "id": "3QgGE9KlpiuP",
        "outputId": "24a07452-822d-4ccb-925c-2f8e2d0e0fd4"
      },
      "outputs": [
        {
          "output_type": "stream",
          "name": "stdout",
          "text": [
            "Train set has reduced to:  111473\n",
            "Test set length:  10240\n"
          ]
        }
      ],
      "source": [
        "print('Train set has reduced to: ', len(Q1_train) ) \n",
        "print('Test set length: ', len(Q1_test) ) "
      ]
    },
    {
      "cell_type": "markdown",
      "metadata": {
        "id": "BDcxEmX31y3d"
      },
      "source": [
        "<a name='1.2'></a>\n",
        "### 1.2 Converting a question to a tensor\n",
        "\n",
        "You will now convert every question to a tensor, or an array of numbers, using your vocabulary built above."
      ]
    },
    {
      "cell_type": "code",
      "execution_count": 46,
      "metadata": {
        "id": "zOhNa-sapiuS"
      },
      "outputs": [],
      "source": [
        "# Converting questions to array of integers\n",
        "for i in range(len(Q1_train)):\n",
        "    Q1_train[i] = [vocab[word] for word in Q1_train[i]]\n",
        "    Q2_train[i] = [vocab[word] for word in Q2_train[i]]\n",
        "\n",
        "        \n",
        "for i in range(len(Q1_test)):\n",
        "    Q1_test[i] = [vocab[word] for word in Q1_test[i]]\n",
        "    Q2_test[i] = [vocab[word] for word in Q2_test[i]]"
      ]
    },
    {
      "cell_type": "code",
      "execution_count": 47,
      "metadata": {
        "colab": {
          "base_uri": "https://localhost:8080/"
        },
        "id": "Dpawm38dpiuU",
        "outputId": "d7590e94-d1bf-41d0-9ee5-dc277eef9a01"
      },
      "outputs": [
        {
          "output_type": "stream",
          "name": "stdout",
          "text": [
            "first question in the train set:\n",
            "\n",
            "Astrology: I am a Capricorn Sun Cap moon and cap rising...what does that say about me? \n",
            "\n",
            "encoded version:\n",
            "[2, 3, 4, 5, 6, 7, 8, 9, 10, 11, 12, 13, 14, 15, 16, 17, 18, 19, 20, 21] \n",
            "\n",
            "first question in the test set:\n",
            "\n",
            "What were some of the troubles you have faced during and after your 9 months period of pregnancy? \n",
            "\n",
            "encoded version:\n",
            "[30, 271, 116, 131, 78, 28882, 53, 218, 6595, 124, 11, 267, 56, 1636, 606, 2091, 131, 4329, 21]\n"
          ]
        }
      ],
      "source": [
        "print('first question in the train set:\\n')\n",
        "print(Q1_train_words[0], '\\n') \n",
        "print('encoded version:')\n",
        "print(Q1_train[0],'\\n')\n",
        "\n",
        "print('first question in the test set:\\n')\n",
        "print(Q1_test_words[0], '\\n')\n",
        "print('encoded version:')\n",
        "print(Q1_test[0]) "
      ]
    },
    {
      "cell_type": "markdown",
      "metadata": {
        "id": "SuggGPaQpiuY"
      },
      "source": [
        "You will now split your train set into a training/validation set so that you can use it to train and evaluate your Siamese model."
      ]
    },
    {
      "cell_type": "code",
      "execution_count": 48,
      "metadata": {
        "colab": {
          "base_uri": "https://localhost:8080/"
        },
        "id": "BmhrWPtgpiuY",
        "outputId": "e00a0093-4954-46a0-87e1-c43eaee78930"
      },
      "outputs": [
        {
          "output_type": "stream",
          "name": "stdout",
          "text": [
            "Number of duplicate questions:  111473\n",
            "The length of the training set is:   89178\n",
            "The length of the validation set is:  22295\n"
          ]
        }
      ],
      "source": [
        "# Splitting the data\n",
        "cut_off = int(len(Q1_train)*.8)\n",
        "train_Q1, train_Q2 = Q1_train[:cut_off], Q2_train[:cut_off]\n",
        "val_Q1, val_Q2 = Q1_train[cut_off: ], Q2_train[cut_off:]\n",
        "print('Number of duplicate questions: ', len(Q1_train))\n",
        "print(\"The length of the training set is:  \", len(train_Q1))\n",
        "print(\"The length of the validation set is: \", len(val_Q1))"
      ]
    },
    {
      "cell_type": "markdown",
      "metadata": {
        "id": "iFOR19cX2TQs"
      },
      "source": [
        "<a name='1.3'></a>\n",
        "### 1.3 Understanding the iterator \n",
        "\n",
        "Most of the time in Natural Language Processing, and AI in general we use batches when training our data sets. If you were to use stochastic gradient descent with one example at a time, it will take you forever to build a model. In this example, we show you how you can build a data generator that takes in $Q1$ and $Q2$ and returns a batch of size `batch_size`  in the following format $([q1_1, q1_2, q1_3, ...]$, $[q2_1, q2_2,q2_3, ...])$. The tuple consists of two arrays and each array has `batch_size` questions. Again, $q1_i$ and $q2_i$ are duplicates, but they are not duplicates with any other elements in the batch. \n",
        "\n",
        "<br>\n",
        "\n",
        "The command ```next(data_generator)```returns the next batch. This iterator returns the data in a format that you could directly use in your model when computing the feed-forward of your algorithm. This iterator returns a pair of arrays of questions. \n",
        "\n",
        "<a name='ex01'></a>\n",
        "### Exercise 01\n",
        "\n",
        "**Instructions:**  \n",
        "Implement the data generator below. Here are some things you will need. \n",
        "\n",
        "- While true loop.\n",
        "- if `index >= len_Q1`, set the `idx` to $0$.\n",
        "- The generator should return shuffled batches of data. To achieve this without modifying the actual question lists, a list containing the indexes of the questions is created. This list can be shuffled and used to get random batches everytime the index is reset.\n",
        "- Append elements of $Q1$ and $Q2$ to `input1` and `input2` respectively.\n",
        "- if `len(input1) == batch_size`, determine `max_len` as the longest question in `input1` and `input2`. Ceil `max_len` to a power of $2$ (for computation purposes) using the following command:  `max_len = 2**int(np.ceil(np.log2(max_len)))`.\n",
        "- Pad every question by `vocab['<PAD>']` until you get the length `max_len`.\n",
        "- Use yield to return `input1, input2`. \n",
        "- Don't forget to reset `input1, input2`  to empty arrays at the end (data generator resumes from where it last left)."
      ]
    },
    {
      "cell_type": "code",
      "execution_count": 49,
      "metadata": {
        "id": "ibchgos48MtA"
      },
      "outputs": [],
      "source": [
        "# UNQ_C1 (UNIQUE CELL IDENTIFIER, DO NOT EDIT)\n",
        "# GRADED FUNCTION: data_generator\n",
        "def data_generator(Q1, Q2, batch_size, pad='<PAD>', shuffle=True):\n",
        "    \"\"\"Generator function that yields batches of data\n",
        "\n",
        "    Args:\n",
        "        Q1 (list): List of transformed (to tensor) questions.\n",
        "        Q2 (list): List of transformed (to tensor) questions.\n",
        "        batch_size (int): Number of elements per batch.\n",
        "        pad (int, optional): Pad character from the vocab. Defaults to 1.\n",
        "        shuffle (bool, optional): If the batches should be randomnized or not. Defaults to True.\n",
        "    Yields:\n",
        "        tuple: Of the form (input1, input2) with types (numpy.ndarray, numpy.ndarray)\n",
        "        NOTE: input1: inputs to your model [q1a, q2a, q3a, ...] i.e. (q1a,q1b) are duplicates\n",
        "              input2: targets to your model [q1b, q2b,q3b, ...] i.e. (q1a,q2i) i!=a are not duplicates\n",
        "    \"\"\"\n",
        "\n",
        "    input1 = []\n",
        "    input2 = []\n",
        "    idx = 0\n",
        "    len_q = len(Q1)\n",
        "    question_indexes = [*range(len_q)]\n",
        "    \n",
        "    if shuffle:\n",
        "        rnd.shuffle(question_indexes)\n",
        "    \n",
        "    ### START CODE HERE (Replace instances of 'None' with your code) ###\n",
        "    while True:\n",
        "        if idx >= len_q:\n",
        "            # if idx is greater than or equal to len_q, set idx accordingly \n",
        "            # (Hint: look at the instructions above)\n",
        "            idx = 0\n",
        "            # shuffle to get random batches if shuffle is set to True\n",
        "            if shuffle:\n",
        "                rnd.shuffle(question_indexes)\n",
        "        \n",
        "        # get questions at the `question_indexes[idx]` position in Q1 and Q2\n",
        "        q1 = Q1[idx]\n",
        "        q2 = Q2[idx]\n",
        "        \n",
        "        # increment idx by 1\n",
        "        idx += 1\n",
        "        # append q1\n",
        "        input1.append(q1)\n",
        "        # append q2\n",
        "        input2.append(q2)\n",
        "        if len(input1) == batch_size:\n",
        "            # determine max_len as the longest question in input1 & input 2\n",
        "            # Hint: use the `max` function. \n",
        "            # take max of input1 & input2 and then max out of the two of them.\n",
        "            max_len = max(max([len(q) for q in input1]), max([len(q) for q in input2]))\n",
        "            # pad to power-of-2 (Hint: look at the instructions above)\n",
        "            max_len = 2**int(np.ceil(np.log2(max_len)))\n",
        "            b1 = []\n",
        "            b2 = []\n",
        "            for q1, q2 in zip(input1, input2):\n",
        "                # add [pad] to q1 until it reaches max_len\n",
        "                q1 = q1+[vocab[pad]]*(max_len-len(q1))\n",
        "                # add [pad] to q2 until it reaches max_len\n",
        "                q2 = q2+[vocab[pad]]*(max_len-len(q2))\n",
        "                # append q1\n",
        "                b1.append(q1)\n",
        "                # append q2\n",
        "                b2.append(q2)\n",
        "            # use b1 and b2\n",
        "            yield np.array(b1), np.array(b2)\n",
        "    ### END CODE HERE ###\n",
        "            # reset the batches\n",
        "            input1, input2 = [], []  # reset the batches"
      ]
    },
    {
      "cell_type": "code",
      "execution_count": 50,
      "metadata": {
        "colab": {
          "base_uri": "https://localhost:8080/"
        },
        "id": "ZFZeBPnW8Mlb",
        "outputId": "d6899083-41ed-469d-f96f-adc139a3c0d4"
      },
      "outputs": [
        {
          "output_type": "stream",
          "name": "stdout",
          "text": [
            "First questions  :  \n",
            " [[ 2  3  4  5  6  7  8  9 10 11 12 13 14 15 16 17 18 19 20 21  1  1  1  1\n",
            "   1  1  1  1  1  1  1  1]\n",
            " [32 33  4 34  6 35 36 21  1  1  1  1  1  1  1  1  1  1  1  1  1  1  1  1\n",
            "   1  1  1  1  1  1  1  1]] \n",
            "\n",
            "Second questions :  \n",
            " [[ 4 22  6 23  7 24  8 25 26 11 27 28  7 29 30 16 31 18 19 20 21  1  1  1\n",
            "   1  1  1  1  1  1  1  1]\n",
            " [30 37  4 38 39 34  6 40 36 21  1  1  1  1  1  1  1  1  1  1  1  1  1  1\n",
            "   1  1  1  1  1  1  1  1]]\n"
          ]
        }
      ],
      "source": [
        "batch_size = 2\n",
        "res1, res2 = next(data_generator(train_Q1, train_Q2, batch_size))\n",
        "print(\"First questions  : \",'\\n', res1, '\\n')\n",
        "print(\"Second questions : \",'\\n', res2)"
      ]
    },
    {
      "cell_type": "markdown",
      "metadata": {
        "id": "tWJ1L9m2piui"
      },
      "source": [
        "**Note**: The following expected output is valid only if you run the above test cell **_once_** (first time). The output will change on each execution.\n",
        "\n",
        "If you think your implementation is correct and it is not matching the output, make sure to restart the kernel and run all the cells from the top again. \n",
        "\n",
        "**Expected Output:**\n",
        "```CPP\n",
        "First questions  :  \n",
        " [[  30   87   78  134 2132 1981   28   78  594   21    1    1    1    1\n",
        "     1    1]\n",
        " [  30   55   78 3541 1460   28   56  253   21    1    1    1    1    1\n",
        "     1    1]] \n",
        "\n",
        "Second questions :  \n",
        " [[  30  156   78  134 2132 9508   21    1    1    1    1    1    1    1\n",
        "     1    1]\n",
        " [  30  156   78 3541 1460  131   56  253   21    1    1    1    1    1\n",
        "     1    1]]\n",
        "```\n",
        "Now that you have your generator, you can just call it and it will return tensors which correspond to your questions in the Quora data set.<br>Now you can go ahead and start building your neural network. \n",
        "\n"
      ]
    },
    {
      "cell_type": "markdown",
      "metadata": {
        "id": "KmZRBoaMwt0w"
      },
      "source": [
        "<a name='2'></a>\n",
        "# Part 2: Defining the Siamese model\n",
        "\n",
        "<a name='2.1'></a>\n",
        "\n",
        "### 2.1 Understanding Siamese Network \n",
        "A Siamese network is a neural network which uses the same weights while working in tandem on two different input vectors to compute comparable output vectors.The Siamese network you are about to implement looks like this:\n",
        "\n",
        "<img src = \"siamese.png\" style=\"width:600px;height:300px;\"/>\n",
        "\n",
        "You get the question embedding, run it through an LSTM layer, normalize $v_1$ and $v_2$, and finally use a triplet loss (explained below) to get the corresponding cosine similarity for each pair of questions. As usual, you will start by importing the data set. The triplet loss makes use of a baseline (anchor) input that is compared to a positive (truthy) input and a negative (falsy) input. The distance from the baseline (anchor) input to the positive (truthy) input is minimized, and the distance from the baseline (anchor) input to the negative (falsy) input is maximized. In math equations, you are trying to maximize the following.\n",
        "\n",
        "$$\\mathcal{L}(A, P, N)=\\max \\left(\\|\\mathrm{f}(A)-\\mathrm{f}(P)\\|^{2}-\\|\\mathrm{f}(A)-\\mathrm{f}(N)\\|^{2}+\\alpha, 0\\right)$$\n",
        "\n",
        "$A$ is the anchor input, for example $q1_1$, $P$ the duplicate input, for example, $q2_1$, and $N$ the negative input (the non duplicate question), for example $q2_2$.<br>\n",
        "$\\alpha$ is a margin; you can think about it as a safety net, or by how much you want to push the duplicates from the non duplicates. \n",
        "<br>\n",
        "\n",
        "<a name='ex02'></a>\n",
        "### Exercise 02\n",
        "\n",
        "**Instructions:** Implement the `Siamese` function below. You should be using all the objects explained below. \n",
        "\n",
        "To implement this model, you will be using `trax`. Concretely, you will be using the following functions.\n",
        "\n",
        "\n",
        "- `tl.Serial`: Combinator that applies layers serially (by function composition) allows you set up the overall structure of the feedforward. [docs](https://trax-ml.readthedocs.io/en/latest/trax.layers.html#trax.layers.combinators.Serial) / [source code](https://github.com/google/trax/blob/1372b903bb66b0daccee19fd0b1fdf44f659330b/trax/layers/combinators.py#L26)\n",
        "    - You can pass in the layers as arguments to `Serial`, separated by commas. \n",
        "    - For example: `tl.Serial(tl.Embeddings(...), tl.Mean(...), tl.Dense(...), tl.LogSoftmax(...))` \n",
        "\n",
        "\n",
        "-  `tl.Embedding`: Maps discrete tokens to vectors. It will have shape (vocabulary length X dimension of output vectors). The dimension of output vectors (also called d_feature) is the number of elements in the word embedding. [docs](https://trax-ml.readthedocs.io/en/latest/trax.layers.html#trax.layers.core.Embedding) / [source code](https://github.com/google/trax/blob/1372b903bb66b0daccee19fd0b1fdf44f659330b/trax/layers/core.py#L113)\n",
        "    - `tl.Embedding(vocab_size, d_feature)`.\n",
        "    - `vocab_size` is the number of unique words in the given vocabulary.\n",
        "    - `d_feature` is the number of elements in the word embedding (some choices for a word embedding size range from 150 to 300, for example).\n",
        "\n",
        "\n",
        "-  `tl.LSTM` The LSTM layer. It leverages another Trax layer called [`LSTMCell`](https://trax-ml.readthedocs.io/en/latest/trax.layers.html#trax.layers.rnn.LSTMCell). The number of units should be specified and should match the number of elements in the word embedding. [docs](https://trax-ml.readthedocs.io/en/latest/trax.layers.html#trax.layers.rnn.LSTM) / [source code](https://github.com/google/trax/blob/1372b903bb66b0daccee19fd0b1fdf44f659330b/trax/layers/rnn.py#L87)\n",
        "    - `tl.LSTM(n_units)` Builds an LSTM layer of n_units.\n",
        "    \n",
        "    \n",
        "- `tl.Mean`: Computes the mean across a desired axis. Mean uses one tensor axis to form groups of values and replaces each group with the mean value of that group. [docs](https://trax-ml.readthedocs.io/en/latest/trax.layers.html#trax.layers.core.Mean) / [source code](https://github.com/google/trax/blob/1372b903bb66b0daccee19fd0b1fdf44f659330b/trax/layers/core.py#L276)\n",
        "    - `tl.Mean(axis=1)` mean over columns.\n",
        "\n",
        "\n",
        "- `tl.Fn` Layer with no weights that applies the function f, which should be specified using a lambda syntax. [docs](https://trax-ml.readthedocs.io/en/latest/trax.layers.html#trax.layers.base.Fn) / [source doce](https://github.com/google/trax/blob/70f5364dcaf6ec11aabbd918e5f5e4b0f5bfb995/trax/layers/base.py#L576)\n",
        "    - $x$ -> This is used for cosine similarity.\n",
        "    - `tl.Fn('Normalize', lambda x: normalize(x))` Returns a layer with no weights that applies the function `f`\n",
        "    \n",
        "    \n",
        "- `tl.parallel`: It is a combinator layer (like `Serial`) that applies a list of layers in parallel to its inputs. [docs](https://trax-ml.readthedocs.io/en/latest/trax.layers.html#trax.layers.combinators.Parallel) / [source code](https://github.com/google/trax/blob/37aba571a89a8ad86be76a569d0ec4a46bdd8642/trax/layers/combinators.py#L152)\n"
      ]
    },
    {
      "cell_type": "code",
      "execution_count": 51,
      "metadata": {
        "id": "hww76f8_wt0x"
      },
      "outputs": [],
      "source": [
        "# UNQ_C2 (UNIQUE CELL IDENTIFIER, DO NOT EDIT)\n",
        "# GRADED FUNCTION: Siamese\n",
        "def Siamese(vocab_size=len(vocab), d_model=128, mode='train'):\n",
        "    \"\"\"Returns a Siamese model.\n",
        "\n",
        "    Args:\n",
        "        vocab_size (int, optional): Length of the vocabulary. Defaults to len(vocab).\n",
        "        d_model (int, optional): Depth of the model. Defaults to 128.\n",
        "        mode (str, optional): 'train', 'eval' or 'predict', predict mode is for fast inference. Defaults to 'train'.\n",
        "\n",
        "    Returns:\n",
        "        trax.layers.combinators.Parallel: A Siamese model. \n",
        "    \"\"\"\n",
        "\n",
        "    def normalize(x):  # normalizes the vectors to have L2 norm 1\n",
        "        return x / fastnp.sqrt(fastnp.sum(x * x, axis=-1, keepdims=True))\n",
        "    \n",
        "    ### START CODE HERE (Replace instances of 'None' with your code) ###\n",
        "    q_processor = tl.Serial(  # Processor will run on Q1 and Q2.\n",
        "        tl.Embedding(vocab_size, d_model), # Embedding layer\n",
        "        tl.LSTM(d_model), # LSTM layer\n",
        "        tl.Mean(axis=1), # Mean over columns\n",
        "        tl.Fn('Normalize', lambda x: normalize(x))  # Apply normalize function\n",
        "    )  # Returns one vector of shape [batch_size, d_model].\n",
        "    \n",
        "    ### END CODE HERE ###\n",
        "    \n",
        "    # Run on Q1 and Q2 in parallel.\n",
        "    model = tl.Parallel(q_processor, q_processor)\n",
        "    return model\n"
      ]
    },
    {
      "cell_type": "markdown",
      "metadata": {
        "id": "es2gfwZypiul"
      },
      "source": [
        "Setup the Siamese network model"
      ]
    },
    {
      "cell_type": "code",
      "execution_count": 52,
      "metadata": {
        "colab": {
          "base_uri": "https://localhost:8080/"
        },
        "id": "kvQ_jf52-JAn",
        "outputId": "b4ae0928-3d12-4aa3-ab22-b73a5d3840c3"
      },
      "outputs": [
        {
          "output_type": "stream",
          "name": "stdout",
          "text": [
            "Parallel_in2_out2[\n",
            "  Serial[\n",
            "    Embedding_41794_128\n",
            "    LSTM_128\n",
            "    Mean\n",
            "    Normalize\n",
            "  ]\n",
            "  Serial[\n",
            "    Embedding_41794_128\n",
            "    LSTM_128\n",
            "    Mean\n",
            "    Normalize\n",
            "  ]\n",
            "]\n"
          ]
        }
      ],
      "source": [
        "# check your model\n",
        "model = Siamese()\n",
        "print(model)"
      ]
    },
    {
      "cell_type": "markdown",
      "metadata": {
        "id": "LMK9zqhHpiuo"
      },
      "source": [
        "**Expected output:**  \n",
        "\n",
        "```CPP\n",
        "Parallel_in2_out2[\n",
        "  Serial[\n",
        "    Embedding_41699_128\n",
        "    LSTM_128\n",
        "    Mean\n",
        "    Normalize\n",
        "  ]\n",
        "  Serial[\n",
        "    Embedding_41699_128\n",
        "    LSTM_128\n",
        "    Mean\n",
        "    Normalize\n",
        "  ]\n",
        "]\n",
        "```"
      ]
    },
    {
      "cell_type": "markdown",
      "metadata": {
        "id": "KVo1Gvripiuo"
      },
      "source": [
        "<a name='2.2'></a>\n",
        "\n",
        "### 2.2 Hard  Negative Mining\n",
        "\n",
        "\n",
        "You will now implement the `TripletLoss`.<br>\n",
        "As explained in the lecture, loss is composed of two terms. One term utilizes the mean of all the non duplicates, the second utilizes the *closest negative*. Our loss expression is then:\n",
        " \n",
        "\\begin{align}\n",
        " \\mathcal{Loss_1(A,P,N)} &=\\max \\left( -cos(A,P)  + mean_{neg} +\\alpha, 0\\right) \\\\\n",
        " \\mathcal{Loss_2(A,P,N)} &=\\max \\left( -cos(A,P)  + closest_{neg} +\\alpha, 0\\right) \\\\\n",
        "\\mathcal{Loss(A,P,N)} &= mean(Loss_1 + Loss_2) \\\\\n",
        "\\end{align}\n",
        "\n",
        "\n",
        "Further, two sets of instructions are provided. The first set provides a brief description of the task. If that set proves insufficient, a more detailed set can be displayed.  \n",
        "\n",
        "<a name='ex03'></a>\n",
        "### Exercise 03\n",
        "\n",
        "**Instructions (Brief):** Here is a list of things you should do: <br>\n",
        "\n",
        "- As this will be run inside trax, use `fastnp.xyz` when using any `xyz` numpy function\n",
        "- Use `fastnp.dot` to calculate the similarity matrix $v_1v_2^T$ of dimension `batch_size` x `batch_size`\n",
        "- Take the score of the duplicates on the diagonal `fastnp.diagonal`\n",
        "- Use the `trax` functions `fastnp.eye` and `fastnp.maximum` for the identity matrix and the maximum."
      ]
    },
    {
      "cell_type": "markdown",
      "metadata": {
        "id": "GWsX-Wz3piup"
      },
      "source": [
        "<details>    \n",
        "<summary>\n",
        "    <font size=\"3\" color=\"darkgreen\"><b>More Detailed Instructions </b></font>\n",
        "</summary>\n",
        "We'll describe the algorithm using a detailed example. Below, V1, V2 are the output of the normalization blocks in our model. Here we will use a batch_size of 4 and a d_model of 3. As explained in lecture, the inputs, Q1, Q2 are arranged so that corresponding inputs are duplicates while non-corresponding entries are not. The outputs will have the same pattern.\n",
        "<img src = \"C3_W4_triploss1.png\" style=\"width:1021px;height:229px;\"/>\n",
        "This testcase arranges the outputs, v1,v2, to highlight different scenarios. Here, the first two outputs V1[0], V2[0] match exactly - so the model is generating the same vector for Q1[0] and Q2[0] inputs. The second outputs differ, circled in orange, we set, V2[1] is set to match V2[**2**], simulating a model which is generating very poor results. V1[3] and V2[3] match exactly again while V1[4] and V2[4] are set to be exactly wrong - 180 degrees from each other, circled in blue. \n",
        "\n",
        "The first step is to compute the cosine similarity matrix or `score` in the code. As explained in lecture, this is $$V_1 V_2^T$$ This is generated with `fastnp.dot`.\n",
        "<img src = \"C3_W4_triploss2.png\" style=\"width:959px;height:236px;\"/>\n",
        "The clever arrangement of inputs creates the data needed for positive *and* negative examples without having to run all pair-wise combinations. Because Q1[n] is a duplicate of only Q2[n], other combinations are explicitly created negative examples or *Hard Negative* examples. The matrix multiplication efficiently produces the cosine similarity of all positive/negative combinations as shown above on the left side of the diagram. 'Positive' are the results of duplicate examples and 'negative' are the results of explicitly created negative examples. The results for our test case are as expected, V1[0]V2[0] match producing '1' while our other 'positive' cases (in green) don't match well, as was arranged. The V2[2] was set to match V1[3] producing a poor match at `score[2,2]` and an undesired 'negative' case of a '1' shown in grey. \n",
        "\n",
        "With the similarity matrix (`score`) we can begin to implement the loss equations. First, we can extract $$cos(A,P)$$ by utilizing `fastnp.diagonal`. The goal is to grab all the green entries in the diagram above. This is `positive` in the code.\n",
        "\n",
        "Next, we will create the *closest_negative*. This is the nonduplicate entry in V2 that is closest (has largest cosine similarity) to an entry in V1. Each row, n, of `score` represents all comparisons of the results of Q1[n] vs Q2[x] within a batch. A specific example in our testcase is row `score[2,:]`. It has the cosine similarity of V1[2] and V2[x]. The *closest_negative*, as was arranged, is V2[2] which has a score of 1. This is the maximum value of the 'negative' entries (blue entries in the diagram).\n",
        "\n",
        "To implement this, we need to pick the maximum entry on a row of `score`, ignoring the 'positive'/green entries. To avoid selecting the 'positive'/green entries, we can make them larger negative numbers. Multiply `fastnp.eye(batch_size)` with 2.0 and subtract it out of `scores`. The result is `negative_without_positive`. Now we can use `fastnp.max`, row by row (axis=1), to select the maximum which is `closest_negative`.\n",
        "\n",
        "Next, we'll create *mean_negative*. As the name suggests, this is the mean of all the 'negative'/blue values in `score` on a row by row basis. We can use `fastnp.eye(batch_size)` and a constant, this time to create a mask with zeros on the diagonal. Element-wise multiply this with `score` to get just the 'negative values. This is `negative_zero_on_duplicate` in the code. Compute the mean by using `fastnp.sum` on `negative_zero_on_duplicate` for `axis=1` and divide it by `(batch_size - 1)` . This is `mean_negative`.\n",
        "\n",
        "Now, we can compute loss using the two equations above and `fastnp.maximum`. This will form `triplet_loss1` and `triplet_loss2`. \n",
        "\n",
        "`triple_loss` is the `fastnp.mean` of the sum of the two individual losses.\n",
        "\n",
        "Once you have this code matching the expected results, you can clip out the section between ### START CODE HERE and ### END CODE HERE it out and insert it into TripletLoss below.\n",
        "\n",
        " \n",
        "<\\details>  "
      ]
    },
    {
      "cell_type": "code",
      "execution_count": 53,
      "metadata": {
        "id": "oJM8EQiopiuv"
      },
      "outputs": [],
      "source": [
        "# UNQ_C3 (UNIQUE CELL IDENTIFIER, DO NOT EDIT)\n",
        "# GRADED FUNCTION: TripletLossFn\n",
        "def TripletLossFn(v1, v2, margin=0.25):\n",
        "    \"\"\"Custom Loss function.\n",
        "\n",
        "    Args:\n",
        "        v1 (numpy.ndarray): Array with dimension (batch_size, model_dimension) associated to Q1.\n",
        "        v2 (numpy.ndarray): Array with dimension (batch_size, model_dimension) associated to Q2.\n",
        "        margin (float, optional): Desired margin. Defaults to 0.25.\n",
        "\n",
        "    Returns:\n",
        "        jax.interpreters.xla.DeviceArray: Triplet Loss.\n",
        "    \"\"\"\n",
        "    ### START CODE HERE (Replace instances of 'None' with your code) ###\n",
        "    \n",
        "    # use fastnp to take the dot product of the two batches (don't forget to transpose the second argument)\n",
        "    scores = fastnp.dot(v1, v2.T)  # pairwise cosine sim\n",
        "    # calculate new batch size\n",
        "    batch_size = len(scores)\n",
        "    # print(f\"scores: {scores}\\n\")\n",
        "    # use fastnp to grab all postive `diagonal` entries in `scores`\n",
        "    positive = fastnp.diagonal(scores)  # the positive ones (duplicates)\n",
        "    # multiply `fastnp.eye(batch_size)` with 2.0 and subtract it out of `scores`\n",
        "    negative_without_positive = scores - 2.0 * fastnp.eye(batch_size)\n",
        "    # print(f\"negative_without_positive: {negative_without_positive}\\n\")\n",
        "    # take the row by row `max` of `negative_without_positive`. \n",
        "    # Hint: negative_without_positive.max(axis = [?])  \n",
        "    closest_negative = negative_without_positive.max(axis=1)\n",
        "    # print(f\"closest_negative: {closest_negative}\\n\")\n",
        "    # subtract `fastnp.eye(batch_size)` out of 1.0 and do element-wise multiplication with `scores`\n",
        "    negative_zero_on_duplicate = scores * (1.0 - fastnp.eye(batch_size))\n",
        "    # print(f\"negative_zero_on_duplicate: {negative_zero_on_duplicate}\\n\")\n",
        "    # use `fastnp.sum` on `negative_zero_on_duplicate` for `axis=1` and divide it by `(batch_size - 1)` \n",
        "    mean_negative =  np.sum(negative_zero_on_duplicate, axis=1) / (batch_size-1)\n",
        "    # compute `fastnp.maximum` among 0.0 and `A`\n",
        "    # A = subtract `positive` from `margin` and add `closest_negative` \n",
        "    triplet_loss1 = fastnp.maximum(0.0, margin - positive + closest_negative)\n",
        "    # print(f\"triplet_loss1: {triplet_loss1}\\n\")\n",
        "    # compute `fastnp.maximum` among 0.0 and `B`\n",
        "    # B = subtract `positive` from `margin` and add `mean_negative`\n",
        "    triplet_loss2 = fastnp.maximum(0.0, margin - positive + mean_negative)\n",
        "    # print(f\"triplet_loss2: {triplet_loss2}\\n\")\n",
        "    # add the two losses together and take the `fastnp.mean` of it\n",
        "    triplet_loss = fastnp.mean(triplet_loss1 + triplet_loss2)\n",
        "    \n",
        "    ### END CODE HERE ###\n",
        "    \n",
        "    return triplet_loss"
      ]
    },
    {
      "cell_type": "code",
      "execution_count": 54,
      "metadata": {
        "colab": {
          "base_uri": "https://localhost:8080/"
        },
        "id": "WSB0QT4gBrI0",
        "outputId": "09c0572b-e143-4ab7-ffa2-9b511aea44de"
      },
      "outputs": [
        {
          "output_type": "stream",
          "name": "stdout",
          "text": [
            "Triplet Loss: 0.5\n"
          ]
        }
      ],
      "source": [
        "v1 = np.array([[0.26726124, 0.53452248, 0.80178373],\n",
        "               [0.5178918 , 0.57543534, 0.63297887]])\n",
        "v2 = np.array([[ 0.26726124,  0.53452248,  0.80178373],\n",
        "               [-0.5178918 , -0.57543534, -0.63297887]])\n",
        "TripletLossFn(v2,v1)\n",
        "print(\"Triplet Loss:\", TripletLossFn(v2,v1))"
      ]
    },
    {
      "cell_type": "markdown",
      "metadata": {
        "id": "mH5LJhniBrI0"
      },
      "source": [
        "**Expected Output:**\n",
        "```CPP\n",
        "Triplet Loss: 0.5\n",
        "```   "
      ]
    },
    {
      "cell_type": "markdown",
      "metadata": {
        "id": "r974ozuHYAom"
      },
      "source": [
        "To make a layer out of a function with no trainable variables, use `tl.Fn`."
      ]
    },
    {
      "cell_type": "code",
      "execution_count": 55,
      "metadata": {
        "id": "CbGpCfQNBrI0"
      },
      "outputs": [],
      "source": [
        "from functools import partial\n",
        "def TripletLoss(margin=0.25):\n",
        "    triplet_loss_fn = partial(TripletLossFn, margin=margin)\n",
        "    return tl.Fn('TripletLoss', triplet_loss_fn)"
      ]
    },
    {
      "cell_type": "markdown",
      "metadata": {
        "id": "lsvjaCQ6wt02"
      },
      "source": [
        "<a name='3'></a>\n",
        "\n",
        "# Part 3: Training\n",
        "\n",
        "Now you are going to train your model. As usual, you have to define the cost function and the optimizer. You also have to feed in the built model. Before, going into the training, we will use a special data set up. We will define the inputs using the data generator we built above. The lambda function acts as a seed to remember the last batch that was given. Run the cell below to get the question pairs inputs. "
      ]
    },
    {
      "cell_type": "code",
      "execution_count": 56,
      "metadata": {
        "colab": {
          "base_uri": "https://localhost:8080/"
        },
        "id": "iPk7gh-nzCBg",
        "outputId": "5782ad39-59ed-4d09-b5ab-d21d2297d264"
      },
      "outputs": [
        {
          "output_type": "stream",
          "name": "stdout",
          "text": [
            "train_Q1.shape  (89178,)\n",
            "val_Q1.shape    (22295,)\n"
          ]
        }
      ],
      "source": [
        "batch_size = 256\n",
        "train_generator = data_generator(train_Q1, train_Q2, batch_size)\n",
        "val_generator = data_generator(val_Q1, val_Q2, batch_size)\n",
        "print('train_Q1.shape ', train_Q1.shape)\n",
        "print('val_Q1.shape   ', val_Q1.shape)"
      ]
    },
    {
      "cell_type": "markdown",
      "metadata": {
        "id": "IgFMfH5awt07"
      },
      "source": [
        "<a name='3.1'></a>\n",
        "\n",
        "### 3.1 Training the model\n",
        "\n",
        "You will now write a function that takes in your model and trains it. To train your model you have to decide how many times you want to iterate over the entire data set; each iteration is defined as an `epoch`. For each epoch, you have to go over all the data, using your training iterator.\n",
        "\n",
        "<a name='ex04'></a>\n",
        "### Exercise 04\n",
        "\n",
        "**Instructions:** Implement the `train_model` below to train the neural network above. Here is a list of things you should do, as already shown in lecture 7: \n",
        "\n",
        "- Create `TrainTask` and `EvalTask`\n",
        "- Create the training loop `trax.supervised.training.Loop`\n",
        "- Pass in the following depending on the context (train_task or eval_task):\n",
        "    - `labeled_data=generator`\n",
        "    - `metrics=[TripletLoss()]`,\n",
        "    - `loss_layer=TripletLoss()`\n",
        "    - `optimizer=trax.optimizers.Adam` with learning rate of 0.01\n",
        "    - `lr_schedule=lr_schedule`,\n",
        "    - `output_dir=output_dir`\n",
        "\n",
        "\n",
        "You will be using your triplet loss function with Adam optimizer. Please read the [trax](https://trax-ml.readthedocs.io/en/latest/trax.optimizers.html?highlight=adam#trax.optimizers.adam.Adam) documentation to get a full understanding. \n",
        "\n",
        "This function should return a `training.Loop` object. To read more about this check the [docs](https://trax-ml.readthedocs.io/en/latest/trax.supervised.html?highlight=loop#trax.supervised.training.Loop)."
      ]
    },
    {
      "cell_type": "code",
      "execution_count": 57,
      "metadata": {
        "id": "_kbtfz4T_m7x"
      },
      "outputs": [],
      "source": [
        "lr_schedule = trax.lr.warmup_and_rsqrt_decay(400, 0.01)\n",
        "\n",
        "# UNQ_C4 (UNIQUE CELL IDENTIFIER, DO NOT EDIT)\n",
        "# GRADED FUNCTION: train_model\n",
        "def train_model(Siamese, TripletLoss, lr_schedule, train_generator=train_generator, val_generator=val_generator, output_dir='/content/drive/MyDrive/Data/model/'):\n",
        "    \"\"\"Training the Siamese Model\n",
        "\n",
        "    Args:\n",
        "        Siamese (function): Function that returns the Siamese model.\n",
        "        TripletLoss (function): Function that defines the TripletLoss loss function.\n",
        "        lr_schedule (function): Trax multifactor schedule function.\n",
        "        train_generator (generator, optional): Training generator. Defaults to train_generator.\n",
        "        val_generator (generator, optional): Validation generator. Defaults to val_generator.\n",
        "        output_dir (str, optional): Path to save model to. Defaults to 'model/'.\n",
        "\n",
        "    Returns:\n",
        "        trax.supervised.training.Loop: Training loop for the model.\n",
        "    \"\"\"\n",
        "    output_dir = os.path.expanduser(output_dir)\n",
        "\n",
        "    ### START CODE HERE (Replace instances of 'None' with your code) ###\n",
        "\n",
        "    train_task = training.TrainTask(\n",
        "        labeled_data=train_generator,       # Use generator (train)\n",
        "        loss_layer=TripletLoss(),         # Use triplet loss. Don't forget to instantiate this object\n",
        "        optimizer=trax.optimizers.Adam(0.01),          # Don't forget to add the learning rate parameter\n",
        "        lr_schedule=lr_schedule, # Use Trax multifactor schedule function\n",
        "    )\n",
        "\n",
        "    eval_task = training.EvalTask(\n",
        "        labeled_data=val_generator,       # Use generator (val)\n",
        "        metrics=[TripletLoss()],          # Use triplet loss. Don't forget to instantiate this object\n",
        "    )\n",
        "    \n",
        "    ### END CODE HERE ###\n",
        "\n",
        "    training_loop = training.Loop(Siamese(),\n",
        "                                  train_task,\n",
        "                                  eval_tasks=[eval_task],\n",
        "                                  output_dir=output_dir)\n",
        "\n",
        "    return training_loop"
      ]
    },
    {
      "cell_type": "code",
      "execution_count": 58,
      "metadata": {
        "colab": {
          "base_uri": "https://localhost:8080/"
        },
        "id": "-3KXjmBo_6Xa",
        "outputId": "e8b7c237-f77e-4bd0-f627-e12c009f1c4a"
      },
      "outputs": [
        {
          "output_type": "stream",
          "name": "stderr",
          "text": [
            "/usr/local/lib/python3.7/dist-packages/jax/_src/lib/xla_bridge.py:413: UserWarning: jax.host_count has been renamed to jax.process_count. This alias will eventually be removed; please update your code.\n",
            "  \"jax.host_count has been renamed to jax.process_count. This alias \"\n"
          ]
        }
      ],
      "source": [
        "train_steps = 64\n",
        "training_loop = train_model(Siamese, TripletLoss, lr_schedule)\n",
        "training_loop.run(train_steps)"
      ]
    },
    {
      "cell_type": "markdown",
      "metadata": {
        "id": "vvk7TUU_BrI1"
      },
      "source": [
        "The model was only trained for 5 steps due to the constraints of this environment. For the rest of the assignment you will be using a pretrained model but now you should understand how the training can be done using Trax."
      ]
    },
    {
      "cell_type": "markdown",
      "metadata": {
        "id": "abKPe7d4wt1C"
      },
      "source": [
        "<a name='4'></a>\n",
        "\n",
        "# Part 4:  Evaluation  \n",
        "\n",
        "<a name='4.1'></a>\n",
        "\n",
        "### 4.1 Evaluating your siamese network\n",
        "\n",
        "In this section you will learn how to evaluate a Siamese network. You will first start by loading a pretrained model and then you will use it to predict. "
      ]
    },
    {
      "cell_type": "code",
      "execution_count": 59,
      "metadata": {
        "colab": {
          "base_uri": "https://localhost:8080/"
        },
        "id": "3OtmlEuOwt1D",
        "outputId": "df24a638-66aa-4919-daed-d9745a4b3635"
      },
      "outputs": [
        {
          "output_type": "execute_result",
          "data": {
            "text/plain": [
              "(((array([[-0.08307383,  0.05059725, -0.12459125, ...,  0.03197188,\n",
              "           -0.13772725,  0.04015911],\n",
              "          [-0.07204105,  0.30804652,  0.35948953, ...,  0.05582536,\n",
              "            0.3120091 ,  0.38142487],\n",
              "          [-0.01781322,  0.08502898, -0.13969395, ...,  0.13196474,\n",
              "            0.05895576, -0.20759274],\n",
              "          ...,\n",
              "          [-0.07244647,  0.01573772, -0.14900595, ...,  0.03287981,\n",
              "            0.13418074,  0.14447656],\n",
              "          [ 0.09487063, -0.08480382,  0.03224419, ...,  0.0923581 ,\n",
              "            0.05372114, -0.00727669],\n",
              "          [-0.10979756,  0.0084284 , -0.08020803, ..., -0.0567461 ,\n",
              "           -0.03910361, -0.07843323]], dtype=float32),\n",
              "   (((), ((), ())),\n",
              "    ((array([[-0.06621294,  0.15055619, -0.14913782, ...,  0.14579211,\n",
              "              -0.0230539 ,  0.04938092],\n",
              "             [-0.08950985, -0.10275517,  0.19498229, ..., -0.07134507,\n",
              "              -0.01876621, -0.12060169],\n",
              "             [-0.02486642,  0.03746422,  0.0664237 , ...,  0.09983313,\n",
              "               0.13991183, -0.09772395],\n",
              "             ...,\n",
              "             [-0.12233386, -0.143375  ,  0.004426  , ..., -0.05434161,\n",
              "               0.01004622, -0.18216749],\n",
              "             [-0.02180688, -0.16232039,  0.12319861, ..., -0.10119315,\n",
              "              -0.02596718, -0.11278722],\n",
              "             [-0.00192704, -0.06493283,  0.08397239, ..., -0.1230569 ,\n",
              "               0.09946829, -0.07419958]], dtype=float32),\n",
              "      array([0.79215825, 0.7825371 , 1.0574107 , 0.8033802 , 0.8788584 ,\n",
              "             0.792986  , 0.81302935, 0.8952233 , 0.83793724, 0.6792531 ,\n",
              "             0.9088028 , 1.008942  , 0.94580764, 0.6858731 , 0.9083663 ,\n",
              "             0.90168107, 0.7521885 , 0.8527728 , 1.0102167 , 0.8686961 ,\n",
              "             0.9676852 , 0.5051885 , 0.9721067 , 0.83574635, 0.7824198 ,\n",
              "             0.82729995, 1.0089142 , 0.81910914, 0.8733529 , 0.88561374,\n",
              "             0.9447744 , 0.9108981 , 0.83623177, 0.77689934, 0.84068847,\n",
              "             0.9039958 , 0.8224724 , 0.77255595, 0.96806926, 0.8789513 ,\n",
              "             0.94056696, 0.88685906, 0.9897127 , 0.7202698 , 0.73018044,\n",
              "             0.7956169 , 0.9042568 , 0.7368411 , 0.9422384 , 0.8343241 ,\n",
              "             0.8304327 , 0.84644973, 0.8656201 , 0.85156775, 0.5818249 ,\n",
              "             0.9257158 , 0.7976347 , 0.8571351 , 0.7782423 , 0.8110888 ,\n",
              "             0.7543821 , 0.87538636, 0.8890582 , 0.8969728 , 0.8764091 ,\n",
              "             0.8639246 , 0.85702425, 1.1993074 , 1.0623639 , 1.0121452 ,\n",
              "             0.96266735, 1.1990932 , 0.76195   , 0.6489704 , 0.8992912 ,\n",
              "             0.98821115, 0.7647183 , 0.95267016, 0.799752  , 1.0070089 ,\n",
              "             0.8751019 , 1.0842799 , 1.065051  , 0.9755329 , 0.7535571 ,\n",
              "             0.8501588 , 0.9701507 , 0.99265397, 0.8124289 , 0.8715151 ,\n",
              "             1.0015901 , 0.8742337 , 0.9882067 , 0.9905369 , 0.8244301 ,\n",
              "             0.8319999 , 0.7686389 , 0.84872586, 0.86238605, 0.8092764 ,\n",
              "             0.86466175, 0.6734749 , 0.86144567, 0.859547  , 0.8316948 ,\n",
              "             0.9510403 , 0.95667154, 0.9676957 , 0.86826026, 0.8908559 ,\n",
              "             0.5931479 , 0.8711991 , 0.8276188 , 0.75029105, 0.7732933 ,\n",
              "             0.80272174, 0.8406456 , 0.82257247, 0.7497612 , 0.9064347 ,\n",
              "             0.87133783, 0.8563495 , 1.0404693 , 0.9710777 , 0.8293782 ,\n",
              "             0.86957246, 0.9271629 , 0.8526936 , 0.9183531 , 0.8980344 ,\n",
              "             0.8491707 , 0.8678727 , 0.8814652 , 0.8858438 , 0.9787106 ,\n",
              "             0.9007683 , 0.82558167, 1.0051043 , 0.9073194 , 0.98623073,\n",
              "             0.9119561 , 0.8171718 , 0.9414066 , 0.88688344, 0.8804303 ,\n",
              "             0.9678452 , 1.0215901 , 0.9688652 , 0.925439  , 0.98388416,\n",
              "             0.8687447 , 0.90473574, 0.9012667 , 0.8936872 , 0.9862839 ,\n",
              "             0.9112794 , 0.89805216, 0.8481025 , 1.0528586 , 0.93272305,\n",
              "             0.88773274, 0.95046616, 0.82032645, 0.9009819 , 0.909861  ,\n",
              "             0.90835905, 1.0095772 , 1.050977  , 0.97842723, 0.98530746,\n",
              "             1.0011574 , 1.0243256 , 0.8951985 , 1.0641849 , 0.9102422 ,\n",
              "             0.7984399 , 0.9850504 , 0.85604227, 0.9494583 , 0.91807944,\n",
              "             0.93028116, 0.8973981 , 0.8151752 , 0.8962012 , 0.88210046,\n",
              "             0.88818383, 0.8691455 , 0.8444484 , 0.95503044, 0.7779924 ,\n",
              "             1.0004776 , 1.0885838 , 0.9387256 , 0.91064924, 0.6781386 ,\n",
              "             0.99182105, 0.9891162 , 0.90710974, 0.91306627, 0.80991244,\n",
              "             1.0743742 , 0.70823747, 0.88350403, 0.99634224, 0.9073825 ,\n",
              "             0.897982  , 0.893763  , 1.0343331 , 0.8757008 , 0.857072  ,\n",
              "             0.8657739 , 0.9202606 , 0.9472501 , 0.9242122 , 1.023924  ,\n",
              "             1.1023334 , 0.89034694, 0.89341927, 0.97530776, 0.9098959 ,\n",
              "             1.1503431 , 1.0878123 , 0.91402084, 0.90608954, 0.7889679 ,\n",
              "             1.0000823 , 1.0000802 , 1.0840343 , 0.9693248 , 0.96729577,\n",
              "             0.858226  , 0.8646812 , 0.87085336, 0.8552196 , 0.9869114 ,\n",
              "             0.9488841 , 0.94758064, 0.92742074, 0.79938453, 0.90891725,\n",
              "             0.96140593, 0.97179425, 0.9023384 , 0.7774603 , 0.968373  ,\n",
              "             0.90029645, 1.0017638 , 0.9175706 , 0.9963019 , 0.8361982 ,\n",
              "             0.7878337 , 1.0722558 , 0.9796768 , 0.90012896, 0.8672876 ,\n",
              "             0.8867181 , 0.8479551 , 0.8823357 , 1.0194921 , 0.8886265 ,\n",
              "             0.98059386, 0.82562625, 0.88962144, 1.0173153 , 0.79775167,\n",
              "             1.055433  , 0.9285439 , 1.0304614 , 0.97960824, 0.8875497 ,\n",
              "             1.020693  , 0.9466021 , 0.9200005 , 0.86689883, 1.1197958 ,\n",
              "             0.8969915 , 0.8875115 , 1.2944977 , 0.9911454 , 0.81538665,\n",
              "             0.91274184, 1.0961391 , 0.9574264 , 0.92534417, 0.88724697,\n",
              "             0.91385514, 0.93734884, 0.90571773, 0.877322  , 0.9979309 ,\n",
              "             1.0559916 , 0.9488843 , 0.90680945, 0.9325242 , 1.0910844 ,\n",
              "             1.0968597 , 0.9046398 , 1.2472439 , 0.9793885 , 0.8384778 ,\n",
              "             1.2947676 , 0.8325173 , 1.1066589 , 0.82484144, 1.2722315 ,\n",
              "             0.89665484, 0.8564966 , 0.9712483 , 0.88990873, 0.90124637,\n",
              "             1.1982772 , 0.9502017 , 0.8697511 , 0.91315216, 0.8312972 ,\n",
              "             1.169445  , 0.86366916, 1.0384638 , 0.9301152 , 0.8945714 ,\n",
              "             0.95378757, 0.9664834 , 1.0261605 , 0.8207762 , 1.062681  ,\n",
              "             1.0729158 , 0.9442113 , 1.140799  , 1.2770257 , 0.813127  ,\n",
              "             0.9259271 , 1.0072243 , 0.8397711 , 0.9967409 , 0.75467676,\n",
              "             1.0144393 , 1.0428759 , 1.0545214 , 1.1092776 , 0.82836854,\n",
              "             0.8752762 , 0.9102562 , 1.0248204 , 0.9198594 , 1.2607609 ,\n",
              "             0.8664863 , 0.95444566, 0.96488595, 1.0196589 , 1.0536956 ,\n",
              "             0.9012403 , 0.93182427, 0.96270525, 0.9269544 , 0.948241  ,\n",
              "             0.83315766, 0.8026722 , 1.0943973 , 0.87904304, 0.88423055,\n",
              "             0.81924003, 1.0449218 , 1.038189  , 1.0265183 , 0.973094  ,\n",
              "             1.0794302 , 1.1574448 , 0.9323478 , 0.81034815, 0.86675954,\n",
              "             0.89093727, 0.842844  , 0.8483773 , 1.2472678 , 1.060033  ,\n",
              "             0.95363533, 0.7391302 , 0.81443876, 1.0217183 , 1.0042937 ,\n",
              "             0.84451   , 0.92656803, 0.7240287 , 0.89287186, 0.70959306,\n",
              "             0.7795713 , 0.7733403 , 0.8103117 , 0.7115041 , 0.7103418 ,\n",
              "             0.82895356, 0.8616816 , 0.8866112 , 0.77791774, 0.8935735 ,\n",
              "             0.8657995 , 0.9186736 , 0.83075255, 0.8013892 , 0.8913565 ,\n",
              "             0.65456593, 0.8130572 , 0.91851515, 0.7719179 , 0.78790385,\n",
              "             1.103926  , 0.6843872 , 0.6336274 , 0.7536297 , 0.9358439 ,\n",
              "             0.788342  , 0.82443964, 0.9068617 , 0.9313292 , 0.81781024,\n",
              "             0.73002416, 0.8437942 , 0.6328346 , 1.0894837 , 0.86869353,\n",
              "             0.8384488 , 0.83092266, 0.7635735 , 0.6687707 , 0.6738751 ,\n",
              "             1.3420999 , 0.8498156 , 0.7428558 , 1.1220194 , 0.72289646,\n",
              "             0.8779199 , 0.7505978 , 1.0274752 , 0.77326304, 0.77566457,\n",
              "             0.8404291 , 0.8882679 , 0.86845845, 1.0927678 , 0.8680163 ,\n",
              "             0.84563524, 0.6008977 , 0.78220695, 1.1477503 , 0.8144607 ,\n",
              "             0.8866098 , 0.6642548 , 0.7125403 , 0.8734885 , 0.89686114,\n",
              "             0.77740544, 1.0955293 , 0.81034476, 1.02332   , 0.93717754,\n",
              "             0.8049866 , 1.2473147 , 0.67696726, 0.9455841 , 0.7575306 ,\n",
              "             0.7669506 , 0.8991953 , 0.6219948 , 0.81435794, 0.78108555,\n",
              "             0.78401953, 0.91370034, 0.827271  , 0.86187   , 0.8428195 ,\n",
              "             0.92916554, 0.6941305 , 1.1997789 , 0.60436547, 0.89422035,\n",
              "             0.8532859 , 0.857812  , 0.82620054, 0.7759521 , 0.7890067 ,\n",
              "             0.91415447, 0.6482488 , 0.61766386, 0.72089475, 0.8227544 ,\n",
              "             0.9086894 , 0.82188237, 0.8398699 , 0.7649436 , 0.8341063 ,\n",
              "             0.8834243 , 0.8936624 , 0.8098229 , 1.0127577 , 0.9711237 ,\n",
              "             0.8368891 , 0.7991321 , 0.7772097 , 0.73666596, 0.84133303,\n",
              "             0.7662635 , 1.2200428 , 0.98500305, 0.9123217 , 0.9742404 ,\n",
              "             0.8433852 , 0.76537544, 0.775696  , 0.7713028 , 0.87220097,\n",
              "             0.985181  , 0.8571153 ], dtype=float32)),),\n",
              "    ()),\n",
              "   (),\n",
              "   ()),\n",
              "  {'__marker_for_cached_weights_': ()}),\n",
              " (((), (((), ((), ())), ((), ()), ()), (), ()),\n",
              "  {'__marker_for_cached_state_': ()}))"
            ]
          },
          "metadata": {},
          "execution_count": 59
        }
      ],
      "source": [
        "# Loading in the saved model\n",
        "model = Siamese()\n",
        "model.init_from_file('/content/drive/MyDrive/Data/model/model.pkl.gz')"
      ]
    },
    {
      "cell_type": "markdown",
      "metadata": {
        "id": "QDi4MBiKpivF"
      },
      "source": [
        "<a name='4.2'></a>\n",
        "### 4.2 Classify\n",
        "To determine the accuracy of the model, we will utilize the test set that was configured earlier. While in training we used only positive examples, the test data, Q1_test, Q2_test and y_test, is setup as pairs of questions, some of which are duplicates some are not. \n",
        "This routine will run all the test question pairs through the model, compute the cosine simlarity of each pair, threshold it and compare the result to  y_test - the correct response from the data set. The results are accumulated to produce an accuracy.\n",
        "\n",
        "\n",
        "<a name='ex05'></a>\n",
        "### Exercise 05\n",
        "\n",
        "**Instructions**  \n",
        " - Loop through the incoming data in batch_size chunks\n",
        " - Use the data generator to load q1, q2 a batch at a time. **Don't forget to set shuffle=False!**\n",
        " - copy a batch_size chunk of y into y_test\n",
        " - compute v1, v2 using the model\n",
        " - for each element of the batch\n",
        "        - compute the cos similarity of each pair of entries, v1[j],v2[j]\n",
        "        - determine if d > threshold\n",
        "        - increment accuracy if that result matches the expected results (y_test[j])\n",
        " - compute the final accuracy and return\n",
        " \n",
        "Due to some limitations of this environment, running classify multiple times may result in the kernel failing. If that happens *Restart Kernal & clear output* and then run from the top. During development, consider using a smaller set of data to reduce the number of calls to model(). "
      ]
    },
    {
      "cell_type": "code",
      "execution_count": 60,
      "metadata": {
        "id": "K-h6ZH507fUm"
      },
      "outputs": [],
      "source": [
        "# UNQ_C5 (UNIQUE CELL IDENTIFIER, DO NOT EDIT)\n",
        "# GRADED FUNCTION: classify\n",
        "def classify(test_Q1, test_Q2, y, threshold, model, vocab, data_generator=data_generator, batch_size=64):\n",
        "    \"\"\"Function to test the accuracy of the model.\n",
        "\n",
        "    Args:\n",
        "        test_Q1 (numpy.ndarray): Array of Q1 questions.\n",
        "        test_Q2 (numpy.ndarray): Array of Q2 questions.\n",
        "        y (numpy.ndarray): Array of actual target.\n",
        "        threshold (float): Desired threshold.\n",
        "        model (trax.layers.combinators.Parallel): The Siamese model.\n",
        "        vocab (collections.defaultdict): The vocabulary used.\n",
        "        data_generator (function): Data generator function. Defaults to data_generator.\n",
        "        batch_size (int, optional): Size of the batches. Defaults to 64.\n",
        "\n",
        "    Returns:\n",
        "        float: Accuracy of the model.\n",
        "    \"\"\"\n",
        "    accuracy = 0\n",
        "    ### START CODE HERE (Replace instances of 'None' with your code) ###\n",
        "    for i in range(0, len(test_Q1), batch_size):\n",
        "        # Call the data generator (built in Ex 01) with shuffle=False using next()\n",
        "        # use batch size chuncks of questions as Q1 & Q2 arguments of the data generator. e.g x[i:i + batch_size]\n",
        "        # Hint: use `vocab['<PAD>']` for the `pad` argument of the data generator\n",
        "        q1, q2 = next(data_generator(test_Q1[i:i + batch_size], test_Q2[i:i + batch_size], batch_size, '<PAD>', shuffle=False))\n",
        "        # use batch size chuncks of actual output targets (same syntax as example above)\n",
        "        y_test = y[i:i + batch_size]\n",
        "        # Call the model\n",
        "        v1, v2 = model((q1, q2))\n",
        "\n",
        "        for j in range(batch_size):\n",
        "            # take dot product to compute cos similarity of each pair of entries, v1[j], v2[j]\n",
        "            # don't forget to transpose the second argument\n",
        "            d = np.dot(v1[j], v2[j].T)\n",
        "            # is d greater than the threshold?\n",
        "            res = d > threshold\n",
        "            # increment accurancy if y_test is equal `res`\n",
        "            accuracy += (y_test[j] == res)\n",
        "    # compute accuracy using accuracy and total length of test questions\n",
        "    accuracy = accuracy / len(test_Q1)\n",
        "    ### END CODE HERE ###\n",
        "    \n",
        "    return accuracy"
      ]
    },
    {
      "cell_type": "code",
      "execution_count": 65,
      "metadata": {
        "colab": {
          "base_uri": "https://localhost:8080/"
        },
        "id": "yeQjHxkfpivH",
        "outputId": "98e6483e-b540-4200-ad63-1bff8ad7eed7"
      },
      "outputs": [
        {
          "output_type": "stream",
          "name": "stdout",
          "text": [
            "Accuracy 0.52587890625\n"
          ]
        }
      ],
      "source": [
        "# this takes around 1 minute\n",
        "accuracy = classify(Q1_test,Q2_test, y_test, 0.8, model, vocab, batch_size = 512) \n",
        "print(\"Accuracy\", accuracy)"
      ]
    },
    {
      "cell_type": "markdown",
      "metadata": {
        "id": "CsokYZwhpivJ"
      },
      "source": [
        "**Expected Result**  \n",
        "Accuracy ~0.69"
      ]
    },
    {
      "cell_type": "markdown",
      "metadata": {
        "id": "4-STC44Ywt1I"
      },
      "source": [
        "<a name='5'></a>\n",
        "\n",
        "# Part 5: Testing with your own questions\n",
        "\n",
        "In this section you will test the model with your own questions. You will write a function `predict` which takes two questions as input and returns $1$ or $0$ depending on whether the question pair is a duplicate or not.   \n",
        "\n",
        "But first, we build a reverse vocabulary that allows to map encoded questions back to words: "
      ]
    },
    {
      "cell_type": "markdown",
      "metadata": {
        "id": "21h3Y0FNpivK"
      },
      "source": [
        "Write a function `predict`that takes in two questions, the model, and the vocabulary and returns whether the questions are duplicates ($1$) or not duplicates ($0$) given a similarity threshold. \n",
        "\n",
        "<a name='ex06'></a>\n",
        "### Exercise 06\n",
        "\n",
        "\n",
        "**Instructions:** \n",
        "- Tokenize your question using `nltk.word_tokenize` \n",
        "- Create Q1,Q2 by encoding your questions as a list of numbers using vocab\n",
        "- pad Q1,Q2 with next(data_generator([Q1], [Q2],1,vocab['<PAD>']))\n",
        "- use model() to create v1, v2\n",
        "- compute the cosine similarity (dot product) of v1, v2\n",
        "- compute res by comparing d to the threshold\n"
      ]
    },
    {
      "cell_type": "code",
      "execution_count": 62,
      "metadata": {
        "id": "kg0wQ8qhpivL"
      },
      "outputs": [],
      "source": [
        "# UNQ_C6 (UNIQUE CELL IDENTIFIER, DO NOT EDIT)\n",
        "# GRADED FUNCTION: predict\n",
        "def predict(question1, question2, threshold, model, vocab, data_generator=data_generator, verbose=False):\n",
        "    \"\"\"Function for predicting if two questions are duplicates.\n",
        "\n",
        "    Args:\n",
        "        question1 (str): First question.\n",
        "        question2 (str): Second question.\n",
        "        threshold (float): Desired threshold.\n",
        "        model (trax.layers.combinators.Parallel): The Siamese model.\n",
        "        vocab (collections.defaultdict): The vocabulary used.\n",
        "        data_generator (function): Data generator function. Defaults to data_generator.\n",
        "        verbose (bool, optional): If the results should be printed out. Defaults to False.\n",
        "\n",
        "    Returns:\n",
        "        bool: True if the questions are duplicates, False otherwise.\n",
        "    \"\"\"\n",
        "    ### START CODE HERE (Replace instances of 'None' with your code) ###\n",
        "    # use `nltk` word tokenize function to tokenize\n",
        "    q1 = nltk.word_tokenize(question1)  # tokenize\n",
        "    q2 = nltk.word_tokenize(question2)  # tokenize\n",
        "    Q1, Q2 = [], []\n",
        "    for word in q1:  # encode q1\n",
        "        # increment by checking the 'word' index in `vocab`\n",
        "        Q1 += [vocab[word]]\n",
        "    for word in q2:  # encode q2\n",
        "        # increment by checking the 'word' index in `vocab`\n",
        "        Q2 += [vocab[word]]\n",
        "        \n",
        "    # Call the data generator (built in Ex 01) using next()\n",
        "    # pass [Q1] & [Q2] as Q1 & Q2 arguments of the data generator. Set batch size as 1\n",
        "    # Hint: use `vocab['<PAD>']` for the `pad` argument of the data generator\n",
        "    Q1, Q2 = next(data_generator([Q1], [Q2], 1, '<PAD>'))\n",
        "    # Call the model\n",
        "    v1, v2 = model((Q1, Q2))\n",
        "    # take dot product to compute cos similarity of each pair of entries, v1, v2\n",
        "    # don't forget to transpose the second argument\n",
        "    d = np.dot(v1[0], v2[0].T)\n",
        "    print(d)\n",
        "    # is d greater than the threshold?\n",
        "    res = d > threshold\n",
        "    \n",
        "    ### END CODE HERE ###\n",
        "    \n",
        "    if(verbose):\n",
        "        print(\"Q1  = \", Q1, \"\\nQ2  = \", Q2)\n",
        "        print(\"d   = \", d)\n",
        "        print(\"res = \", res)\n",
        "\n",
        "    return res"
      ]
    },
    {
      "cell_type": "code",
      "execution_count": 63,
      "metadata": {
        "colab": {
          "base_uri": "https://localhost:8080/"
        },
        "id": "Raojyhw3z7HE",
        "outputId": "9480947a-423d-4a5c-b76b-7ed2f7613b5f"
      },
      "outputs": [
        {
          "output_type": "stream",
          "name": "stdout",
          "text": [
            "0.98407114\n",
            "Q1  =  [[585  76   4  46  53  21   1   1]] \n",
            "Q2  =  [[ 585   33    4   46   53 7287   21    1]]\n",
            "d   =  0.98407114\n",
            "res =  True\n"
          ]
        },
        {
          "output_type": "execute_result",
          "data": {
            "text/plain": [
              "True"
            ]
          },
          "metadata": {},
          "execution_count": 63
        }
      ],
      "source": [
        "# Feel free to try with your own questions\n",
        "question1 = \"When will I see you?\"\n",
        "question2 = \"When can I see you again?\"\n",
        "# 1 means it is duplicated, 0 otherwise\n",
        "predict(question1 , question2, 0.7, model, vocab, verbose = True)"
      ]
    },
    {
      "cell_type": "markdown",
      "metadata": {
        "id": "7OEKCa_hpivP"
      },
      "source": [
        "##### Expected Output\n",
        "If input is:\n",
        "```CPP\n",
        "question1 = \"When will I see you?\"\n",
        "question2 = \"When can I see you again?\"\n",
        "```\n",
        "\n",
        "Output is (d may vary a bit):\n",
        "```CPP\n",
        "Q1  =  [[585  76   4  46  53  21   1   1]] \n",
        "Q2  =  [[ 585   33    4   46   53 7280   21    1]]\n",
        "d   =  0.88113236\n",
        "res =  True\n",
        "True\n",
        "```"
      ]
    },
    {
      "cell_type": "code",
      "execution_count": 64,
      "metadata": {
        "colab": {
          "base_uri": "https://localhost:8080/"
        },
        "id": "DZccIQ_lpivQ",
        "outputId": "fd47af7e-d68a-4112-a4c3-8d7f3d71222a"
      },
      "outputs": [
        {
          "output_type": "stream",
          "name": "stdout",
          "text": [
            "0.87883544\n",
            "Q1  =  [[  443  1145  3158  1169    78 29070    21     1]] \n",
            "Q2  =  [[  443  1145    60 15323    28    78  7438    21]]\n",
            "d   =  0.87883544\n",
            "res =  True\n"
          ]
        },
        {
          "output_type": "execute_result",
          "data": {
            "text/plain": [
              "True"
            ]
          },
          "metadata": {},
          "execution_count": 64
        }
      ],
      "source": [
        "# Feel free to try with your own questions\n",
        "question1 = \"Do they enjoy eating the dessert?\"\n",
        "question2 = \"Do they like hiking in the desert?\"\n",
        "# 1 means it is duplicated, 0 otherwise\n",
        "predict(question1 , question2, 0.7, model, vocab, verbose=True)"
      ]
    },
    {
      "cell_type": "markdown",
      "metadata": {
        "id": "lWrt-yCMpivS"
      },
      "source": [
        "##### Expected output\n",
        "\n",
        "If input is:\n",
        "```CPP\n",
        "question1 = \"Do they enjoy eating the dessert?\"\n",
        "question2 = \"Do they like hiking in the desert?\"\n",
        "```\n",
        "\n",
        "Output  (d may vary a bit):\n",
        "\n",
        "```CPP\n",
        "Q1  =  [[  443  1145  3159  1169    78 29017    21     1]] \n",
        "Q2  =  [[  443  1145    60 15302    28    78  7431    21]]\n",
        "d   =  0.477536\n",
        "res =  False\n",
        "False\n",
        "```"
      ]
    },
    {
      "cell_type": "markdown",
      "metadata": {
        "id": "NAfV3l5Zwt1L"
      },
      "source": [
        "You can see that the Siamese network is capable of catching complicated structures. Concretely it can identify question duplicates although the questions do not have many words in common. \n",
        " "
      ]
    },
    {
      "cell_type": "markdown",
      "metadata": {
        "id": "FsE8tdTLwt1M"
      },
      "source": [
        "<a name='6'></a>\n",
        "\n",
        "###  <span style=\"color:blue\"> On Siamese networks </span>\n",
        "\n",
        "Siamese networks are important and useful. Many times there are several questions that are already asked in quora, or other platforms and you can use Siamese networks to avoid question duplicates. \n",
        "\n",
        "Congratulations, you have now built a powerful system that can recognize question duplicates. In the next course we will use transformers for machine translation, summarization, question answering, and chatbots. \n"
      ]
    }
  ],
  "metadata": {
    "accelerator": "GPU",
    "colab": {
      "collapsed_sections": [],
      "machine_shape": "hm",
      "name": "C3_W4_Assignment.ipynb",
      "provenance": []
    },
    "coursera": {
      "schema_names": [
        "NLPC3-4A"
      ]
    },
    "kernelspec": {
      "display_name": "Python 3",
      "language": "python",
      "name": "python3"
    },
    "language_info": {
      "codemirror_mode": {
        "name": "ipython",
        "version": 3
      },
      "file_extension": ".py",
      "mimetype": "text/x-python",
      "name": "python",
      "nbconvert_exporter": "python",
      "pygments_lexer": "ipython3",
      "version": "3.7.1"
    }
  },
  "nbformat": 4,
  "nbformat_minor": 0
}