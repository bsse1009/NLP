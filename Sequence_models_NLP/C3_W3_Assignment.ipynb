{
  "cells": [
    {
      "cell_type": "code",
      "source": [
        "from google.colab import drive\n",
        "drive.mount('/content/drive')"
      ],
      "metadata": {
        "id": "ZJZZojxKqfTK",
        "colab": {
          "base_uri": "https://localhost:8080/"
        },
        "outputId": "c32d68b0-feab-46ca-fd47-935bbc21cb49"
      },
      "execution_count": 1,
      "outputs": [
        {
          "output_type": "stream",
          "name": "stdout",
          "text": [
            "Mounted at /content/drive\n"
          ]
        }
      ]
    },
    {
      "cell_type": "code",
      "source": [
        "!pip install trax"
      ],
      "metadata": {
        "id": "A9RCxQ3yq8qA",
        "colab": {
          "base_uri": "https://localhost:8080/",
          "height": 1000
        },
        "outputId": "8e9a5356-9e6c-4d60-8999-5f7ff5afe0d1"
      },
      "execution_count": 2,
      "outputs": [
        {
          "output_type": "stream",
          "name": "stdout",
          "text": [
            "Collecting trax\n",
            "  Downloading trax-1.4.1-py2.py3-none-any.whl (637 kB)\n",
            "\u001b[K     |████████████████████████████████| 637 kB 5.1 MB/s \n",
            "\u001b[?25hRequirement already satisfied: tensorflow-datasets in /usr/local/lib/python3.7/dist-packages (from trax) (4.0.1)\n",
            "Requirement already satisfied: six in /usr/local/lib/python3.7/dist-packages (from trax) (1.15.0)\n",
            "Requirement already satisfied: matplotlib in /usr/local/lib/python3.7/dist-packages (from trax) (3.2.2)\n",
            "Requirement already satisfied: psutil in /usr/local/lib/python3.7/dist-packages (from trax) (5.4.8)\n",
            "Requirement already satisfied: jaxlib in /usr/local/lib/python3.7/dist-packages (from trax) (0.1.71+cuda111)\n",
            "Collecting funcsigs\n",
            "  Downloading funcsigs-1.0.2-py2.py3-none-any.whl (17 kB)\n",
            "Requirement already satisfied: numpy in /usr/local/lib/python3.7/dist-packages (from trax) (1.19.5)\n",
            "Requirement already satisfied: gym in /usr/local/lib/python3.7/dist-packages (from trax) (0.17.3)\n",
            "Requirement already satisfied: absl-py in /usr/local/lib/python3.7/dist-packages (from trax) (1.0.0)\n",
            "Collecting tensorflow-text\n",
            "  Downloading tensorflow_text-2.8.1-cp37-cp37m-manylinux_2_12_x86_64.manylinux2010_x86_64.whl (4.9 MB)\n",
            "\u001b[K     |████████████████████████████████| 4.9 MB 42.8 MB/s \n",
            "\u001b[?25hRequirement already satisfied: gin-config in /usr/local/lib/python3.7/dist-packages (from trax) (0.5.0)\n",
            "Requirement already satisfied: scipy in /usr/local/lib/python3.7/dist-packages (from trax) (1.4.1)\n",
            "Requirement already satisfied: jax in /usr/local/lib/python3.7/dist-packages (from trax) (0.2.25)\n",
            "Requirement already satisfied: pyglet<=1.5.0,>=1.4.0 in /usr/local/lib/python3.7/dist-packages (from gym->trax) (1.5.0)\n",
            "Requirement already satisfied: cloudpickle<1.7.0,>=1.2.0 in /usr/local/lib/python3.7/dist-packages (from gym->trax) (1.3.0)\n",
            "Requirement already satisfied: future in /usr/local/lib/python3.7/dist-packages (from pyglet<=1.5.0,>=1.4.0->gym->trax) (0.16.0)\n",
            "Requirement already satisfied: opt-einsum in /usr/local/lib/python3.7/dist-packages (from jax->trax) (3.3.0)\n",
            "Requirement already satisfied: typing-extensions in /usr/local/lib/python3.7/dist-packages (from jax->trax) (3.10.0.2)\n",
            "Requirement already satisfied: flatbuffers<3.0,>=1.12 in /usr/local/lib/python3.7/dist-packages (from jaxlib->trax) (2.0)\n",
            "Requirement already satisfied: cycler>=0.10 in /usr/local/lib/python3.7/dist-packages (from matplotlib->trax) (0.11.0)\n",
            "Requirement already satisfied: kiwisolver>=1.0.1 in /usr/local/lib/python3.7/dist-packages (from matplotlib->trax) (1.3.2)\n",
            "Requirement already satisfied: pyparsing!=2.0.4,!=2.1.2,!=2.1.6,>=2.0.1 in /usr/local/lib/python3.7/dist-packages (from matplotlib->trax) (3.0.7)\n",
            "Requirement already satisfied: python-dateutil>=2.1 in /usr/local/lib/python3.7/dist-packages (from matplotlib->trax) (2.8.2)\n",
            "Requirement already satisfied: dm-tree in /usr/local/lib/python3.7/dist-packages (from tensorflow-datasets->trax) (0.1.6)\n",
            "Requirement already satisfied: requests>=2.19.0 in /usr/local/lib/python3.7/dist-packages (from tensorflow-datasets->trax) (2.23.0)\n",
            "Requirement already satisfied: tensorflow-metadata in /usr/local/lib/python3.7/dist-packages (from tensorflow-datasets->trax) (1.6.0)\n",
            "Requirement already satisfied: tqdm in /usr/local/lib/python3.7/dist-packages (from tensorflow-datasets->trax) (4.62.3)\n",
            "Requirement already satisfied: termcolor in /usr/local/lib/python3.7/dist-packages (from tensorflow-datasets->trax) (1.1.0)\n",
            "Requirement already satisfied: promise in /usr/local/lib/python3.7/dist-packages (from tensorflow-datasets->trax) (2.3)\n",
            "Requirement already satisfied: attrs>=18.1.0 in /usr/local/lib/python3.7/dist-packages (from tensorflow-datasets->trax) (21.4.0)\n",
            "Requirement already satisfied: protobuf>=3.6.1 in /usr/local/lib/python3.7/dist-packages (from tensorflow-datasets->trax) (3.17.3)\n",
            "Requirement already satisfied: dill in /usr/local/lib/python3.7/dist-packages (from tensorflow-datasets->trax) (0.3.4)\n",
            "Requirement already satisfied: importlib-resources in /usr/local/lib/python3.7/dist-packages (from tensorflow-datasets->trax) (5.4.0)\n",
            "Requirement already satisfied: urllib3!=1.25.0,!=1.25.1,<1.26,>=1.21.1 in /usr/local/lib/python3.7/dist-packages (from requests>=2.19.0->tensorflow-datasets->trax) (1.24.3)\n",
            "Requirement already satisfied: chardet<4,>=3.0.2 in /usr/local/lib/python3.7/dist-packages (from requests>=2.19.0->tensorflow-datasets->trax) (3.0.4)\n",
            "Requirement already satisfied: certifi>=2017.4.17 in /usr/local/lib/python3.7/dist-packages (from requests>=2.19.0->tensorflow-datasets->trax) (2021.10.8)\n",
            "Requirement already satisfied: idna<3,>=2.5 in /usr/local/lib/python3.7/dist-packages (from requests>=2.19.0->tensorflow-datasets->trax) (2.10)\n",
            "Requirement already satisfied: zipp>=3.1.0 in /usr/local/lib/python3.7/dist-packages (from importlib-resources->tensorflow-datasets->trax) (3.7.0)\n",
            "Requirement already satisfied: googleapis-common-protos<2,>=1.52.0 in /usr/local/lib/python3.7/dist-packages (from tensorflow-metadata->tensorflow-datasets->trax) (1.54.0)\n",
            "Requirement already satisfied: tensorflow-hub>=0.8.0 in /usr/local/lib/python3.7/dist-packages (from tensorflow-text->trax) (0.12.0)\n",
            "Collecting tensorflow<2.9,>=2.8.0\n",
            "  Downloading tensorflow-2.8.0-cp37-cp37m-manylinux2010_x86_64.whl (497.5 MB)\n",
            "\u001b[K     |████████████████████████████████| 497.5 MB 26 kB/s \n",
            "\u001b[?25hCollecting tf-estimator-nightly==2.8.0.dev2021122109\n",
            "  Downloading tf_estimator_nightly-2.8.0.dev2021122109-py2.py3-none-any.whl (462 kB)\n",
            "\u001b[K     |████████████████████████████████| 462 kB 51.4 MB/s \n",
            "\u001b[?25hRequirement already satisfied: gast>=0.2.1 in /usr/local/lib/python3.7/dist-packages (from tensorflow<2.9,>=2.8.0->tensorflow-text->trax) (0.4.0)\n",
            "Requirement already satisfied: google-pasta>=0.1.1 in /usr/local/lib/python3.7/dist-packages (from tensorflow<2.9,>=2.8.0->tensorflow-text->trax) (0.2.0)\n",
            "Requirement already satisfied: wrapt>=1.11.0 in /usr/local/lib/python3.7/dist-packages (from tensorflow<2.9,>=2.8.0->tensorflow-text->trax) (1.13.3)\n",
            "Requirement already satisfied: libclang>=9.0.1 in /usr/local/lib/python3.7/dist-packages (from tensorflow<2.9,>=2.8.0->tensorflow-text->trax) (13.0.0)\n",
            "Collecting numpy\n",
            "  Downloading numpy-1.21.5-cp37-cp37m-manylinux_2_12_x86_64.manylinux2010_x86_64.whl (15.7 MB)\n",
            "\u001b[K     |████████████████████████████████| 15.7 MB 44.1 MB/s \n",
            "\u001b[?25hRequirement already satisfied: setuptools in /usr/local/lib/python3.7/dist-packages (from tensorflow<2.9,>=2.8.0->tensorflow-text->trax) (57.4.0)\n",
            "Requirement already satisfied: grpcio<2.0,>=1.24.3 in /usr/local/lib/python3.7/dist-packages (from tensorflow<2.9,>=2.8.0->tensorflow-text->trax) (1.43.0)\n",
            "Requirement already satisfied: keras-preprocessing>=1.1.1 in /usr/local/lib/python3.7/dist-packages (from tensorflow<2.9,>=2.8.0->tensorflow-text->trax) (1.1.2)\n",
            "Collecting keras<2.9,>=2.8.0rc0\n",
            "  Downloading keras-2.8.0-py2.py3-none-any.whl (1.4 MB)\n",
            "\u001b[K     |████████████████████████████████| 1.4 MB 44.3 MB/s \n",
            "\u001b[?25hRequirement already satisfied: h5py>=2.9.0 in /usr/local/lib/python3.7/dist-packages (from tensorflow<2.9,>=2.8.0->tensorflow-text->trax) (3.1.0)\n",
            "Collecting tensorboard<2.9,>=2.8\n",
            "  Downloading tensorboard-2.8.0-py3-none-any.whl (5.8 MB)\n",
            "\u001b[K     |████████████████████████████████| 5.8 MB 37.0 MB/s \n",
            "\u001b[?25hRequirement already satisfied: astunparse>=1.6.0 in /usr/local/lib/python3.7/dist-packages (from tensorflow<2.9,>=2.8.0->tensorflow-text->trax) (1.6.3)\n",
            "Requirement already satisfied: tensorflow-io-gcs-filesystem>=0.23.1 in /usr/local/lib/python3.7/dist-packages (from tensorflow<2.9,>=2.8.0->tensorflow-text->trax) (0.23.1)\n",
            "Requirement already satisfied: wheel<1.0,>=0.23.0 in /usr/local/lib/python3.7/dist-packages (from astunparse>=1.6.0->tensorflow<2.9,>=2.8.0->tensorflow-text->trax) (0.37.1)\n",
            "Requirement already satisfied: cached-property in /usr/local/lib/python3.7/dist-packages (from h5py>=2.9.0->tensorflow<2.9,>=2.8.0->tensorflow-text->trax) (1.5.2)\n",
            "Requirement already satisfied: google-auth<3,>=1.6.3 in /usr/local/lib/python3.7/dist-packages (from tensorboard<2.9,>=2.8->tensorflow<2.9,>=2.8.0->tensorflow-text->trax) (1.35.0)\n",
            "Requirement already satisfied: markdown>=2.6.8 in /usr/local/lib/python3.7/dist-packages (from tensorboard<2.9,>=2.8->tensorflow<2.9,>=2.8.0->tensorflow-text->trax) (3.3.6)\n",
            "Requirement already satisfied: google-auth-oauthlib<0.5,>=0.4.1 in /usr/local/lib/python3.7/dist-packages (from tensorboard<2.9,>=2.8->tensorflow<2.9,>=2.8.0->tensorflow-text->trax) (0.4.6)\n",
            "Requirement already satisfied: werkzeug>=0.11.15 in /usr/local/lib/python3.7/dist-packages (from tensorboard<2.9,>=2.8->tensorflow<2.9,>=2.8.0->tensorflow-text->trax) (1.0.1)\n",
            "Requirement already satisfied: tensorboard-plugin-wit>=1.6.0 in /usr/local/lib/python3.7/dist-packages (from tensorboard<2.9,>=2.8->tensorflow<2.9,>=2.8.0->tensorflow-text->trax) (1.8.1)\n",
            "Requirement already satisfied: tensorboard-data-server<0.7.0,>=0.6.0 in /usr/local/lib/python3.7/dist-packages (from tensorboard<2.9,>=2.8->tensorflow<2.9,>=2.8.0->tensorflow-text->trax) (0.6.1)\n",
            "Requirement already satisfied: pyasn1-modules>=0.2.1 in /usr/local/lib/python3.7/dist-packages (from google-auth<3,>=1.6.3->tensorboard<2.9,>=2.8->tensorflow<2.9,>=2.8.0->tensorflow-text->trax) (0.2.8)\n",
            "Requirement already satisfied: cachetools<5.0,>=2.0.0 in /usr/local/lib/python3.7/dist-packages (from google-auth<3,>=1.6.3->tensorboard<2.9,>=2.8->tensorflow<2.9,>=2.8.0->tensorflow-text->trax) (4.2.4)\n",
            "Requirement already satisfied: rsa<5,>=3.1.4 in /usr/local/lib/python3.7/dist-packages (from google-auth<3,>=1.6.3->tensorboard<2.9,>=2.8->tensorflow<2.9,>=2.8.0->tensorflow-text->trax) (4.8)\n",
            "Requirement already satisfied: requests-oauthlib>=0.7.0 in /usr/local/lib/python3.7/dist-packages (from google-auth-oauthlib<0.5,>=0.4.1->tensorboard<2.9,>=2.8->tensorflow<2.9,>=2.8.0->tensorflow-text->trax) (1.3.1)\n",
            "Requirement already satisfied: importlib-metadata>=4.4 in /usr/local/lib/python3.7/dist-packages (from markdown>=2.6.8->tensorboard<2.9,>=2.8->tensorflow<2.9,>=2.8.0->tensorflow-text->trax) (4.10.1)\n",
            "Requirement already satisfied: pyasn1<0.5.0,>=0.4.6 in /usr/local/lib/python3.7/dist-packages (from pyasn1-modules>=0.2.1->google-auth<3,>=1.6.3->tensorboard<2.9,>=2.8->tensorflow<2.9,>=2.8.0->tensorflow-text->trax) (0.4.8)\n",
            "Requirement already satisfied: oauthlib>=3.0.0 in /usr/local/lib/python3.7/dist-packages (from requests-oauthlib>=0.7.0->google-auth-oauthlib<0.5,>=0.4.1->tensorboard<2.9,>=2.8->tensorflow<2.9,>=2.8.0->tensorflow-text->trax) (3.2.0)\n",
            "Installing collected packages: numpy, tf-estimator-nightly, tensorboard, keras, tensorflow, tensorflow-text, funcsigs, trax\n",
            "  Attempting uninstall: numpy\n",
            "    Found existing installation: numpy 1.19.5\n",
            "    Uninstalling numpy-1.19.5:\n",
            "      Successfully uninstalled numpy-1.19.5\n",
            "  Attempting uninstall: tensorboard\n",
            "    Found existing installation: tensorboard 2.7.0\n",
            "    Uninstalling tensorboard-2.7.0:\n",
            "      Successfully uninstalled tensorboard-2.7.0\n",
            "  Attempting uninstall: keras\n",
            "    Found existing installation: keras 2.7.0\n",
            "    Uninstalling keras-2.7.0:\n",
            "      Successfully uninstalled keras-2.7.0\n",
            "  Attempting uninstall: tensorflow\n",
            "    Found existing installation: tensorflow 2.7.0\n",
            "    Uninstalling tensorflow-2.7.0:\n",
            "      Successfully uninstalled tensorflow-2.7.0\n",
            "\u001b[31mERROR: pip's dependency resolver does not currently take into account all the packages that are installed. This behaviour is the source of the following dependency conflicts.\n",
            "yellowbrick 1.3.post1 requires numpy<1.20,>=1.16.0, but you have numpy 1.21.5 which is incompatible.\n",
            "datascience 0.10.6 requires folium==0.2.1, but you have folium 0.8.3 which is incompatible.\n",
            "albumentations 0.1.12 requires imgaug<0.2.7,>=0.2.5, but you have imgaug 0.2.9 which is incompatible.\u001b[0m\n",
            "Successfully installed funcsigs-1.0.2 keras-2.8.0 numpy-1.21.5 tensorboard-2.8.0 tensorflow-2.8.0 tensorflow-text-2.8.1 tf-estimator-nightly-2.8.0.dev2021122109 trax-1.4.1\n"
          ]
        },
        {
          "output_type": "display_data",
          "data": {
            "application/vnd.colab-display-data+json": {
              "pip_warning": {
                "packages": [
                  "numpy"
                ]
              }
            }
          },
          "metadata": {}
        }
      ]
    },
    {
      "cell_type": "code",
      "source": [
        "!cp \"/content/drive/MyDrive/Week 3/utils.py\" ."
      ],
      "metadata": {
        "id": "cLURYX1F2LcU"
      },
      "execution_count": 2,
      "outputs": []
    },
    {
      "cell_type": "markdown",
      "metadata": {
        "id": "C7oVbe_pLr3C"
      },
      "source": [
        "# Assignment 3 - Named Entity Recognition (NER)\n",
        "\n",
        "Welcome to the third programming assignment of Course 3. In this assignment, you will learn to build more complicated models with Trax. By completing this assignment, you will be able to: \n",
        "\n",
        "- Design the architecture of a neural network, train it, and test it. \n",
        "- Process features and represents them\n",
        "- Understand word padding\n",
        "- Implement LSTMs\n",
        "- Test with your own sentence\n",
        "\n",
        "## Outline\n",
        "- [Introduction](#0)\n",
        "- [Part 1:  Exploring the data](#1)\n",
        "    - [1.1  Importing the Data](#1.1)\n",
        "    - [1.2  Data generator](#1.2)\n",
        "\t\t- [Exercise 01](#ex01)\n",
        "- [Part 2:  Building the model](#2)\n",
        "\t- [Exercise 02](#ex02)\n",
        "- [Part 3:  Train the Model ](#3)\n",
        "\t- [Exercise 03](#ex03)\n",
        "- [Part 4:  Compute Accuracy](#4)\n",
        "\t- [Exercise 04](#ex04)\n",
        "- [Part 5:  Testing with your own sentence](#5)\n"
      ]
    },
    {
      "cell_type": "markdown",
      "metadata": {
        "id": "ftT-5-yynCtl"
      },
      "source": [
        "<a name=\"0\"></a>\n",
        "# Introduction\n",
        "\n",
        "We first start by defining named entity recognition (NER). NER is a subtask of information extraction that locates and classifies named entities in a text. The named entities could be organizations, persons, locations, times, etc. \n",
        "\n",
        "For example:\n",
        "\n",
        "<img src = 'ner.png' width=\"width\" height=\"height\" style=\"width:600px;height:150px;\"/>\n",
        "\n",
        "Is labeled as follows: \n",
        "\n",
        "- French: geopolitical entity\n",
        "- Morocco: geographic entity \n",
        "- Christmas: time indicator\n",
        "\n",
        "Everything else that is labeled with an `O` is not considered to be a named entity. In this assignment, you will train a named entity recognition system that could be trained in a few seconds (on a GPU) and will get around 75% accuracy. Then, you will load in the exact version of your model, which was trained for a longer period of time. You could then evaluate the trained version of your model to get 96% accuracy! Finally, you will be able to test your named entity recognition system with your own sentence."
      ]
    },
    {
      "cell_type": "code",
      "execution_count": 3,
      "metadata": {
        "id": "JEY_jlQQR9SP",
        "scrolled": true
      },
      "outputs": [],
      "source": [
        "#!pip -q install trax==1.3.1\n",
        "\n",
        "import trax \n",
        "from trax import layers as tl\n",
        "import os \n",
        "import numpy as np\n",
        "import pandas as pd\n",
        "\n",
        "\n",
        "from utils import get_params, get_vocab\n",
        "import random as rnd\n",
        "\n",
        "# set random seeds to make this notebook easier to replicate\n",
        "# trax.supervised.trainer_lib.init_random_number_generators(33)"
      ]
    },
    {
      "cell_type": "markdown",
      "metadata": {
        "id": "_PpjG5MuLr3F"
      },
      "source": [
        "<a name=\"1\"></a>\n",
        "# Part 1:  Exploring the data\n",
        "\n",
        "We will be using a dataset from Kaggle, which we will preprocess for you. The original data consists of four columns, the sentence number, the word, the part of speech of the word, and the tags.  A few tags you might expect to see are: \n",
        "\n",
        "* geo: geographical entity\n",
        "* org: organization\n",
        "* per: person \n",
        "* gpe: geopolitical entity\n",
        "* tim: time indicator\n",
        "* art: artifact\n",
        "* eve: event\n",
        "* nat: natural phenomenon\n",
        "* O: filler word\n"
      ]
    },
    {
      "cell_type": "code",
      "execution_count": 9,
      "metadata": {
        "colab": {
          "base_uri": "https://localhost:8080/"
        },
        "id": "-Jur1JnXnCtr",
        "outputId": "4f15a53a-7ea1-4455-e871-0dae2d63a96b",
        "scrolled": true
      },
      "outputs": [
        {
          "output_type": "stream",
          "name": "stdout",
          "text": [
            "SENTENCE: Thousands of demonstrators have marched through London to protest the war in Iraq and demand the withdrawal of British troops from that country .\n",
            "\n",
            "SENTENCE LABEL: O O O O O O B-geo O O O O O B-geo O O O O O B-gpe O O O O O\n",
            "\n"
          ]
        }
      ],
      "source": [
        "# display original kaggle data\n",
        "# data = pd.read_csv(\"ner_dataset.csv\", encoding = \"ISO-8859-1\") \n",
        "data = \"/content/drive/MyDrive/Week 3/data\"\n",
        "\n",
        "train_sents = open(data + '/small/train/sentences.txt', 'r').readline()\n",
        "train_labels = open(data + '/small/train/labels.txt', 'r').readline()\n",
        "print('SENTENCE:', train_sents)\n",
        "print('SENTENCE LABEL:', train_labels)\n",
        "# print('ORIGINAL DATA:\\n', data.head(5))\n",
        "del(data, train_sents, train_labels)"
      ]
    },
    {
      "cell_type": "markdown",
      "metadata": {
        "id": "xoH6yBWVfzTb"
      },
      "source": [
        "<a name=\"1.1\"></a>\n",
        "## 1.1  Importing the Data\n",
        "\n",
        "In this part, we will import the preprocessed data and explore it."
      ]
    },
    {
      "cell_type": "code",
      "execution_count": 12,
      "metadata": {
        "id": "UauHjIKHWC0N",
        "scrolled": true
      },
      "outputs": [],
      "source": [
        "data = \"/content/drive/MyDrive/Week 3/data\"\n",
        "vocab, tag_map = get_vocab(data+'/large/words.txt', data+'/large/tags.txt')\n",
        "t_sentences, t_labels, t_size = get_params(vocab, tag_map, data+'/large/train/sentences.txt', data+'/large/train/labels.txt')\n",
        "v_sentences, v_labels, v_size = get_params(vocab, tag_map, data+'/large/val/sentences.txt', data+'/large/val/labels.txt')\n",
        "test_sentences, test_labels, test_size = get_params(vocab, tag_map, data+'/large/test/sentences.txt', data+'/large/test/labels.txt')"
      ]
    },
    {
      "cell_type": "markdown",
      "metadata": {
        "id": "mcQi6EmWnCty"
      },
      "source": [
        "`vocab` is a dictionary that translates a word string to a unique number. Given a sentence, you can represent it as an array of numbers translating with this dictionary. The dictionary contains a `<PAD>` token. \n",
        "\n",
        "When training an LSTM using batches, all your input sentences must be the same size. To accomplish this, you set the length of your sentences to a certain number and add the generic `<PAD>` token to fill all the empty spaces. "
      ]
    },
    {
      "cell_type": "code",
      "execution_count": 13,
      "metadata": {
        "colab": {
          "base_uri": "https://localhost:8080/"
        },
        "id": "sm2P8y7zNgdU",
        "outputId": "5109a03d-7add-45e1-b493-2f5ef41e629d",
        "scrolled": true
      },
      "outputs": [
        {
          "output_type": "stream",
          "name": "stdout",
          "text": [
            "vocab[\"the\"]: 9\n",
            "padded token: 35180\n"
          ]
        }
      ],
      "source": [
        "# vocab translates from a word to a unique number\n",
        "print('vocab[\"the\"]:', vocab[\"the\"])\n",
        "# Pad token\n",
        "print('padded token:', vocab['<PAD>'])"
      ]
    },
    {
      "cell_type": "markdown",
      "metadata": {
        "id": "IY6BTBjunCt1"
      },
      "source": [
        "The tag_map corresponds to one of the possible tags a word can have. Run the cell below to see the possible classes you will be predicting. The prepositions in the tags mean:\n",
        "* I: Token is inside an entity.\n",
        "* B: Token begins an entity."
      ]
    },
    {
      "cell_type": "code",
      "execution_count": 14,
      "metadata": {
        "colab": {
          "base_uri": "https://localhost:8080/"
        },
        "id": "ZzMamaPcQXWP",
        "outputId": "2e9e23fd-41b5-4cf8-8ba7-7a241f2dd2f9",
        "scrolled": true
      },
      "outputs": [
        {
          "output_type": "stream",
          "name": "stdout",
          "text": [
            "{'O': 0, 'B-geo': 1, 'B-gpe': 2, 'B-per': 3, 'I-geo': 4, 'B-org': 5, 'I-org': 6, 'B-tim': 7, 'B-art': 8, 'I-art': 9, 'I-per': 10, 'I-gpe': 11, 'I-tim': 12, 'B-nat': 13, 'B-eve': 14, 'I-eve': 15, 'I-nat': 16}\n"
          ]
        }
      ],
      "source": [
        "print(tag_map)"
      ]
    },
    {
      "cell_type": "markdown",
      "metadata": {
        "id": "3F1sUP_MnCt5"
      },
      "source": [
        "So the coding scheme that tags the entities is a minimal one where B- indicates the first token in a multi-token entity, and I- indicates one in the middle of a multi-token entity. If you had the sentence \n",
        "\n",
        "**\"Sharon flew to Miami on Friday\"**\n",
        "\n",
        "the outputs would look like:\n",
        "\n",
        "```\n",
        "Sharon B-per\n",
        "flew   O\n",
        "to     O\n",
        "Miami  B-geo\n",
        "on     O\n",
        "Friday B-tim\n",
        "```\n",
        "\n",
        "your tags would reflect three tokens beginning with B-, since there are no multi-token entities in the sequence. But if you added Sharon's last name to the sentence: \n",
        "\n",
        "**\"Sharon Floyd flew to Miami on Friday\"**\n",
        "\n",
        "```\n",
        "Sharon B-per\n",
        "Floyd  I-per\n",
        "flew   O\n",
        "to     O\n",
        "Miami  B-geo\n",
        "on     O\n",
        "Friday B-tim\n",
        "```\n",
        "\n",
        "then your tags would change to show first \"Sharon\" as B-per, and \"Floyd\" as I-per, where I- indicates an inner token in a multi-token sequence."
      ]
    },
    {
      "cell_type": "code",
      "execution_count": 15,
      "metadata": {
        "colab": {
          "base_uri": "https://localhost:8080/"
        },
        "id": "xM9B_Rwxd01i",
        "outputId": "a156aa90-6837-4bf1-9170-efaefa4fafe8",
        "scrolled": true
      },
      "outputs": [
        {
          "output_type": "stream",
          "name": "stdout",
          "text": [
            "The number of outputs is tag_map 17\n",
            "Num of vocabulary words: 35181\n",
            "The vocab size is 35181\n",
            "The training size is 33570\n",
            "The validation size is 7194\n",
            "An example of the first sentence is [0, 1, 2, 3, 4, 5, 6, 7, 8, 9, 10, 11, 12, 13, 14, 9, 15, 1, 16, 17, 18, 19, 20, 21]\n",
            "An example of its corresponding label is [0, 0, 0, 0, 0, 0, 1, 0, 0, 0, 0, 0, 1, 0, 0, 0, 0, 0, 2, 0, 0, 0, 0, 0]\n"
          ]
        }
      ],
      "source": [
        "# Exploring information about the data\n",
        "print('The number of outputs is tag_map', len(tag_map))\n",
        "# The number of vocabulary tokens (including <PAD>)\n",
        "g_vocab_size = len(vocab)\n",
        "print(f\"Num of vocabulary words: {g_vocab_size}\")\n",
        "print('The vocab size is', len(vocab))\n",
        "print('The training size is', t_size)\n",
        "print('The validation size is', v_size)\n",
        "print('An example of the first sentence is', t_sentences[0])\n",
        "print('An example of its corresponding label is', t_labels[0])"
      ]
    },
    {
      "cell_type": "markdown",
      "metadata": {
        "id": "IPd5a-4_nCt8"
      },
      "source": [
        "So you can see that we have already encoded each sentence into a tensor by converting it into a number. We also have 16 possible classes, as shown in the tag map.\n",
        "\n",
        "\n",
        "<a name=\"1.2\"></a>\n",
        "## 1.2  Data generator\n",
        "\n",
        "In python, a generator is a function that behaves like an iterator. It will return the next item. Here is a [link](https://wiki.python.org/moin/Generators) to review python generators. \n",
        "\n",
        "In many AI applications it is very useful to have a data generator. You will now implement a data generator for our NER application.\n",
        "\n",
        "<a name=\"ex01\"></a>\n",
        "### Exercise 01\n",
        "\n",
        "**Instructions:** Implement a data generator function that takes in `batch_size, x, y, pad, shuffle` where x is a large list of sentences, and y is a list of the tags associated with those sentences and pad is a pad value. Return a subset of those inputs in a tuple of two arrays `(X,Y)`. Each is an array of dimension (`batch_size, max_len`), where `max_len` is the length of the longest sentence *in that batch*. You will pad the X and Y examples with the pad argument. If `shuffle=True`, the data will be traversed in a random form.\n",
        "\n",
        "**Details:**\n",
        "\n",
        "This code as an outer loop  \n",
        "```\n",
        "while True:  \n",
        "...  \n",
        "yield((X,Y))  \n",
        "```\n",
        "\n",
        "Which runs continuously in the fashion of generators, pausing when yielding the next values. We will generate a batch_size output on each pass of this loop.    \n",
        "\n",
        "It has two inner loops. \n",
        "1. The first stores in temporal lists the data samples to be included in the next batch, and finds the maximum length of the sentences contained in it. By adjusting the length to include only the size of the longest sentence in each batch, overall computation is reduced. \n",
        "\n",
        "2. The second loop moves those inputs from the temporal list into NumPy arrays pre-filled with pad values.\n",
        "\n",
        "There are three slightly out of the ordinary features. \n",
        "1. The first is the use of the NumPy `full` function to fill the NumPy arrays with a pad value. See [full function documentation](https://numpy.org/doc/1.18/reference/generated/numpy.full.html).\n",
        "\n",
        "2. The second is tracking the current location in the incoming lists of sentences. Generators variables hold their values between invocations, so we create an `index` variable, initialize to zero, and increment by one for each sample included in a batch. However, we do not use the `index` to access the positions of the list of sentences directly. Instead, we use it to select one index from a list of indexes. In this way, we can change the order in which we traverse our original list, keeping untouched our original list.  \n",
        "\n",
        "3. The third also relates to wrapping. Because `batch_size` and the length of the input lists are not aligned, gathering a batch_size group of inputs may involve wrapping back to the beginning of the input loop. In our approach, it is just enough to reset the `index` to 0. We can re-shuffle the list of indexes to produce different batches each time."
      ]
    },
    {
      "cell_type": "code",
      "execution_count": 16,
      "metadata": {
        "id": "tP7zQC8knCt_",
        "scrolled": true
      },
      "outputs": [],
      "source": [
        "# UNQ_C1 (UNIQUE CELL IDENTIFIER, DO NOT EDIT)\n",
        "# GRADED FUNCTION: data_generator\n",
        "def data_generator(batch_size, x, y, pad, shuffle=False, verbose=False):\n",
        "    '''\n",
        "      Input: \n",
        "        batch_size - integer describing the batch size\n",
        "        x - list containing sentences where words are represented as integers\n",
        "        y - list containing tags associated with the sentences\n",
        "        shuffle - Shuffle the data order\n",
        "        pad - an integer representing a pad character\n",
        "        verbose - Print information during runtime\n",
        "      Output:\n",
        "        a tuple containing 2 elements:\n",
        "        X - np.ndarray of dim (batch_size, max_len) of padded sentences\n",
        "        Y - np.ndarray of dim (batch_size, max_len) of tags associated with the sentences in X\n",
        "    '''\n",
        "    \n",
        "    # count the number of lines in data_lines\n",
        "    num_lines = len(x)\n",
        "    \n",
        "    # create an array with the indexes of data_lines that can be shuffled\n",
        "    lines_index = [*range(num_lines)]\n",
        "    \n",
        "    # shuffle the indexes if shuffle is set to True\n",
        "    if shuffle:\n",
        "        rnd.shuffle(lines_index)\n",
        "    \n",
        "    index = 0 # tracks current location in x, y\n",
        "    while True:\n",
        "        buffer_x = [0] * batch_size # Temporal array to store the raw x data for this batch\n",
        "        buffer_y = [0] * batch_size # Temporal array to store the raw y data for this batch\n",
        "                \n",
        "  ### START CODE HERE (Replace instances of 'None' with your code) ###\n",
        "        \n",
        "        # Copy into the temporal buffers the sentences in x[index : index + batch_size] \n",
        "        # along with their corresponding labels y[index : index + batch_size]\n",
        "        # Find maximum length of sentences in x[index : index + batch_size] for this batch. \n",
        "        # Reset the index if we reach the end of the data set, and shuffle the indexes if needed.\n",
        "        max_len = 0\n",
        "        for i in range(batch_size):\n",
        "             # if the index is greater than or equal to the number of lines in x\n",
        "            if index >= num_lines:\n",
        "                # then reset the index to 0\n",
        "                index = 0\n",
        "                # re-shuffle the indexes if shuffle is set to True\n",
        "                if shuffle:\n",
        "                    rnd.shuffle(lines_index)\n",
        "            \n",
        "            # The current position is obtained using `lines_index[index]`\n",
        "            # Store the x value at the current position into the buffer_x\n",
        "            buffer_x[i] = x[lines_index[index]]\n",
        "            \n",
        "            # Store the y value at the current position into the buffer_y\n",
        "            buffer_y[i] = y[lines_index[index]]\n",
        "            \n",
        "            lenx = len(x[lines_index[index]])    #length of current x[]\n",
        "            if lenx > max_len:\n",
        "                max_len = lenx                   #max_len tracks longest x[]\n",
        "            \n",
        "            # increment index by one\n",
        "            index += 1\n",
        "\n",
        "\n",
        "        # create X,Y, NumPy arrays of size (batch_size, max_len) 'full' of pad value\n",
        "        X = np.full((batch_size, max_len), pad)\n",
        "        Y = np.full((batch_size, max_len), pad)\n",
        "\n",
        "        # copy values from lists to NumPy arrays. Use the buffered values\n",
        "        for i in range(batch_size):\n",
        "            # get the example (sentence as a tensor)\n",
        "            # in `buffer_x` at the `i` index\n",
        "            x_i = buffer_x[i]\n",
        "            \n",
        "            # similarly, get the example's labels\n",
        "            # in `buffer_y` at the `i` index\n",
        "            y_i = buffer_y[i]\n",
        "            \n",
        "            # Walk through each word in x_i\n",
        "            for j in range(len(x_i)):\n",
        "                # store the word in x_i at position j into X\n",
        "                X[i, j] = x_i[j]\n",
        "                \n",
        "                # store the label in y_i at position j into Y\n",
        "                Y[i, j] = y_i[j]\n",
        "\n",
        "    ### END CODE HERE ###\n",
        "        if verbose: print(\"index=\", index)\n",
        "        yield((X,Y))"
      ]
    },
    {
      "cell_type": "code",
      "execution_count": 17,
      "metadata": {
        "colab": {
          "base_uri": "https://localhost:8080/"
        },
        "id": "s3fwE3PMhOW4",
        "outputId": "ae20443a-d787-4cf5-85fd-5ca1b3fdb05e",
        "scrolled": true
      },
      "outputs": [
        {
          "output_type": "stream",
          "name": "stdout",
          "text": [
            "index= 5\n",
            "index= 2\n",
            "(5, 30) (5, 30) (5, 30) (5, 30)\n",
            "[    0     1     2     3     4     5     6     7     8     9    10    11\n",
            "    12    13    14     9    15     1    16    17    18    19    20    21\n",
            " 35180 35180 35180 35180 35180 35180] \n",
            " [    0     0     0     0     0     0     1     0     0     0     0     0\n",
            "     1     0     0     0     0     0     2     0     0     0     0     0\n",
            " 35180 35180 35180 35180 35180 35180]\n"
          ]
        }
      ],
      "source": [
        "batch_size = 5\n",
        "mini_sentences = t_sentences[0: 8]\n",
        "mini_labels = t_labels[0: 8]\n",
        "dg = data_generator(batch_size, mini_sentences, mini_labels, vocab[\"<PAD>\"], shuffle=False, verbose=True)\n",
        "X1, Y1 = next(dg)\n",
        "X2, Y2 = next(dg)\n",
        "print(Y1.shape, X1.shape, Y2.shape, X2.shape)\n",
        "print(X1[0][:], \"\\n\", Y1[0][:])"
      ]
    },
    {
      "cell_type": "markdown",
      "metadata": {
        "id": "W-qWOhFunCuH"
      },
      "source": [
        "**Expected output:**   \n",
        "```\n",
        "index= 5\n",
        "index= 2\n",
        "(5, 30) (5, 30) (5, 30) (5, 30)\n",
        "[    0     1     2     3     4     5     6     7     8     9    10    11\n",
        "    12    13    14     9    15     1    16    17    18    19    20    21\n",
        " 35180 35180 35180 35180 35180 35180] \n",
        " [    0     0     0     0     0     0     1     0     0     0     0     0\n",
        "     1     0     0     0     0     0     2     0     0     0     0     0\n",
        " 35180 35180 35180 35180 35180 35180]  \n",
        "```"
      ]
    },
    {
      "cell_type": "markdown",
      "metadata": {
        "id": "4SWxKhkVLr3P"
      },
      "source": [
        "<a name=\"2\"></a>\n",
        "# Part 2:  Building the model\n",
        "\n",
        "You will now implement the model. You will be using Google's TensorFlow. Your model will be able to distinguish the following:\n",
        "<table>\n",
        "    <tr>\n",
        "        <td>\n",
        "<img src = 'ner1.png' width=\"width\" height=\"height\" style=\"width:500px;height:150px;\"/>\n",
        "        </td>\n",
        "    </tr>\n",
        "</table>\n",
        "\n",
        "The model architecture will be as follows: \n",
        "\n",
        "<img src = 'ner2.png' width=\"width\" height=\"height\" style=\"width:600px;height:250px;\"/>\n",
        "\n",
        "Concretely: \n",
        "\n",
        "* Use the input tensors you built in your data generator\n",
        "* Feed it into an Embedding layer, to produce more semantic entries\n",
        "* Feed it into an LSTM layer\n",
        "* Run the output through a linear layer\n",
        "* Run the result through a log softmax layer to get the predicted class for each word.\n",
        "\n",
        "Good news! We won't make you implement the LSTM unit drawn above. However, we will ask you to build the model. \n",
        "\n",
        "<a name=\"ex02\"></a>\n",
        "### Exercise 02\n",
        "\n",
        "**Instructions:** Implement the initialization step and the forward function of your Named Entity Recognition system.  \n",
        "Please utilize help function e.g. `help(tl.Dense)` for more information on a layer\n",
        "   \n",
        "- [tl.Serial](https://github.com/google/trax/blob/1372b903bb66b0daccee19fd0b1fdf44f659330b/trax/layers/combinators.py#L26): Combinator that applies layers serially (by function composition).\n",
        "    - You can pass in the layers as arguments to `Serial`, separated by commas. \n",
        "    - For example: `tl.Serial(tl.Embeddings(...), tl.Mean(...), tl.Dense(...), tl.LogSoftmax(...))` \n",
        "\n",
        "\n",
        "-  [tl.Embedding](https://github.com/google/trax/blob/1372b903bb66b0daccee19fd0b1fdf44f659330b/trax/layers/core.py#L113): Initializes the embedding. In this case it is the dimension of the model by the size of the vocabulary. \n",
        "    - `tl.Embedding(vocab_size, d_feature)`.\n",
        "    - `vocab_size` is the number of unique words in the given vocabulary.\n",
        "    - `d_feature` is the number of elements in the word embedding (some choices for a word embedding size range from 150 to 300, for example).\n",
        "    \n",
        "\n",
        "-  [tl.LSTM](https://github.com/google/trax/blob/1372b903bb66b0daccee19fd0b1fdf44f659330b/trax/layers/rnn.py#L87):`Trax` LSTM layer of size d_model. \n",
        "    - `LSTM(n_units)` Builds an LSTM layer of n_cells.\n",
        "\n",
        "\n",
        "\n",
        "-  [tl.Dense](https://github.com/google/trax/blob/1372b903bb66b0daccee19fd0b1fdf44f659330b/trax/layers/core.py#L28):  A dense layer.\n",
        "    - `tl.Dense(n_units)`: The parameter `n_units` is the number of units chosen for this dense layer.  \n",
        "\n",
        "\n",
        "- [tl.LogSoftmax](https://github.com/google/trax/blob/1372b903bb66b0daccee19fd0b1fdf44f659330b/trax/layers/core.py#L242): Log of the output probabilities.\n",
        "    - Here, you don't need to set any parameters for `LogSoftMax()`.\n",
        " \n",
        "\n",
        "**Online documentation**\n",
        "\n",
        "- [tl.Serial](https://trax-ml.readthedocs.io/en/latest/trax.layers.html#module-trax.layers.combinators)\n",
        "\n",
        "- [tl.Embedding](https://trax-ml.readthedocs.io/en/latest/trax.layers.html#trax.layers.core.Embedding)\n",
        "\n",
        "-  [tl.LSTM](https://trax-ml.readthedocs.io/en/latest/trax.layers.html#trax.layers.rnn.LSTM)\n",
        "\n",
        "-  [tl.Dense](https://trax-ml.readthedocs.io/en/latest/trax.layers.html#trax.layers.core.Dense)\n",
        "\n",
        "- [tl.LogSoftmax](https://trax-ml.readthedocs.io/en/latest/trax.layers.html#trax.layers.core.LogSoftmax)    "
      ]
    },
    {
      "cell_type": "code",
      "execution_count": 18,
      "metadata": {
        "id": "vL5u72u8Lr3Q",
        "scrolled": true
      },
      "outputs": [],
      "source": [
        "# UNQ_C2 (UNIQUE CELL IDENTIFIER, DO NOT EDIT)\n",
        "# GRADED FUNCTION: NER\n",
        "def NER(vocab_size=35181, d_model=50, tags=tag_map):\n",
        "    '''\n",
        "      Input: \n",
        "        vocab_size - integer containing the size of the vocabulary\n",
        "        d_model - integer describing the embedding size\n",
        "      Output:\n",
        "        model - a trax serial model\n",
        "    '''\n",
        "    ### START CODE HERE (Replace instances of 'None' with your code) ###\n",
        "    model = tl.Serial(\n",
        "      tl.Embedding(vocab_size, d_model), # Embedding layer\n",
        "      tl.LSTM(d_model), # LSTM layer\n",
        "      tl.Dense(len(tags)), # Dense layer with len(tags) units\n",
        "      tl.LogSoftmax() \n",
        "      )\n",
        "      ### END CODE HERE ###\n",
        "    return model"
      ]
    },
    {
      "cell_type": "code",
      "execution_count": 19,
      "metadata": {
        "colab": {
          "base_uri": "https://localhost:8080/"
        },
        "id": "BrGdYpPvLr3U",
        "outputId": "d3c7880c-f0a6-4784-f98f-dc714df9b1df",
        "scrolled": true
      },
      "outputs": [
        {
          "output_type": "stream",
          "name": "stdout",
          "text": [
            "Serial[\n",
            "  Embedding_35181_50\n",
            "  LSTM_50\n",
            "  Dense_17\n",
            "  LogSoftmax\n",
            "]\n"
          ]
        }
      ],
      "source": [
        "# initializing your model\n",
        "model = NER()\n",
        "# display your model\n",
        "print(model)"
      ]
    },
    {
      "cell_type": "markdown",
      "metadata": {
        "id": "p636VCSanCuS"
      },
      "source": [
        "**Expected output:**  \n",
        "```\n",
        "Serial[\n",
        "  Embedding_35181_50\n",
        "  LSTM_50\n",
        "  Dense_17\n",
        "  LogSoftmax\n",
        "]\n",
        "```  \n"
      ]
    },
    {
      "cell_type": "markdown",
      "metadata": {
        "id": "4LkjXxxhLr3Z"
      },
      "source": [
        "<a name=\"3\"></a>\n",
        "# Part 3:  Train the Model \n",
        "\n",
        "This section will train your model.\n",
        "\n",
        "Before you start, you need to create the data generators for training and validation data. It is important that you mask padding in the loss weights of your data, which can be done using the `id_to_mask` argument of `trax.supervised.inputs.add_loss_weights`."
      ]
    },
    {
      "cell_type": "code",
      "execution_count": 21,
      "metadata": {
        "id": "lPBR1YrRmEAH",
        "scrolled": true
      },
      "outputs": [],
      "source": [
        "from trax.supervised import training\n",
        "\n",
        "rnd.seed(33)\n",
        "\n",
        "batch_size = 64\n",
        "\n",
        "# Create training data, mask pad id=35180 for training.\n",
        "train_generator = trax.data.inputs.add_loss_weights(\n",
        "    data_generator(batch_size, t_sentences, t_labels, vocab['<PAD>'], True),\n",
        "    id_to_mask=vocab['<PAD>'])\n",
        "\n",
        "# Create validation data, mask pad id=35180 for training.\n",
        "eval_generator = trax.data.inputs.add_loss_weights(\n",
        "    data_generator(batch_size, v_sentences, v_labels, vocab['<PAD>'], True),\n",
        "    id_to_mask=vocab['<PAD>'])"
      ]
    },
    {
      "cell_type": "markdown",
      "metadata": {
        "id": "-SdkBrFVnCuV"
      },
      "source": [
        "<a name='3.1'></a>\n",
        "### 3.1 Training the model\n",
        "\n",
        "You will now write a function that takes in your model and trains it.\n",
        "\n",
        "As you've seen in the previous assignments, you will first create the [TrainTask](https://trax-ml.readthedocs.io/en/stable/trax.supervised.html#trax.supervised.training.TrainTask) and [EvalTask](https://trax-ml.readthedocs.io/en/stable/trax.supervised.html#trax.supervised.training.EvalTask) using your data generator. Then you will use the `training.Loop` to train your model.\n",
        "\n",
        "<a name=\"ex03\"></a>\n",
        "### Exercise 03\n",
        "\n",
        "**Instructions:** Implement the `train_model` program below to train the neural network above. Here is a list of things you should do: \n",
        "- Create the trainer object by calling [`trax.supervised.training.Loop`](https://trax-ml.readthedocs.io/en/latest/trax.supervised.html#trax.supervised.training.Loop) and pass in the following:\n",
        "\n",
        "    - model = [NER](#ex02)\n",
        "    - [training task](https://trax-ml.readthedocs.io/en/latest/trax.supervised.html#trax.supervised.training.TrainTask) that uses the train data generator defined in the cell above\n",
        "        - loss_layer = [tl.CrossEntropyLoss()](https://github.com/google/trax/blob/22765bb18608d376d8cd660f9865760e4ff489cd/trax/layers/metrics.py#L71)\n",
        "        - optimizer = [trax.optimizers.Adam(0.01)](https://github.com/google/trax/blob/03cb32995e83fc1455b0c8d1c81a14e894d0b7e3/trax/optimizers/adam.py#L23)\n",
        "    - [evaluation task](https://trax-ml.readthedocs.io/en/latest/trax.supervised.html#trax.supervised.training.EvalTask) that uses the validation data generator defined in the cell above\n",
        "        - metrics for `EvalTask`: `tl.CrossEntropyLoss()` and `tl.Accuracy()`\n",
        "        - in `EvalTask` set `n_eval_batches=10` for better evaluation accuracy\n",
        "    - output_dir = output_dir\n",
        "\n",
        "You'll be using a [cross entropy loss](https://trax-ml.readthedocs.io/en/latest/trax.layers.html#trax.layers.metrics.CrossEntropyLoss), with an [Adam optimizer](https://trax-ml.readthedocs.io/en/latest/trax.optimizers.html#trax.optimizers.adam.Adam). Please read the [trax](https://trax-ml.readthedocs.io/en/latest/trax.html) documentation to get a full understanding. The [trax GitHub](https://github.com/google/trax) also contains some useful information and a link to a colab notebook."
      ]
    },
    {
      "cell_type": "code",
      "execution_count": 23,
      "metadata": {
        "id": "WV27PerULr3a",
        "scrolled": true
      },
      "outputs": [],
      "source": [
        "# UNQ_C3 (UNIQUE CELL IDENTIFIER, DO NOT EDIT)\n",
        "# GRADED FUNCTION: train_model\n",
        "def train_model(NER, train_generator, eval_generator, train_steps=1, output_dir='model'):\n",
        "    '''\n",
        "    Input: \n",
        "        NER - the model you are building\n",
        "        train_generator - The data generator for training examples\n",
        "        eval_generator - The data generator for validation examples,\n",
        "        train_steps - number of training steps\n",
        "        output_dir - folder to save your model\n",
        "    Output:\n",
        "        training_loop - a trax supervised training Loop\n",
        "    '''\n",
        "    ### START CODE HERE (Replace instances of 'None' with your code) ###\n",
        "    train_task = training.TrainTask(\n",
        "      train_generator, # A train data generator\n",
        "      loss_layer = tl.CrossEntropyLoss(), # A cross-entropy loss function\n",
        "      optimizer = trax.optimizers.Adam(0.01),  # The adam optimizer\n",
        "    )\n",
        "\n",
        "    eval_task = training.EvalTask(\n",
        "      labeled_data = eval_generator, # A labeled data generator\n",
        "      metrics = [tl.CrossEntropyLoss(), tl.Accuracy()], # Evaluate with cross-entropy loss and accuracy\n",
        "      n_eval_batches = 10  # Number of batches to use on each evaluation\n",
        "    )\n",
        "\n",
        "    training_loop = training.Loop(\n",
        "        NER, # A model to train\n",
        "        train_task, # A train task\n",
        "        eval_tasks = [eval_task], # The evaluation task\n",
        "        output_dir = output_dir) # The output directory\n",
        "\n",
        "    # Train with train_steps\n",
        "    training_loop.run(n_steps = train_steps)\n",
        "    ### END CODE HERE ###\n",
        "    return training_loop"
      ]
    },
    {
      "cell_type": "markdown",
      "metadata": {
        "id": "4tIc4nuonCue"
      },
      "source": [
        "On your local machine, you can run this training for 1000 train_steps and get your own model. This training takes about 5 to 10 minutes to run."
      ]
    },
    {
      "cell_type": "code",
      "execution_count": 24,
      "metadata": {
        "colab": {
          "base_uri": "https://localhost:8080/"
        },
        "id": "VU-j8hs-nCue",
        "outputId": "d6b0a54f-431c-46f4-c2b4-b8e064f0b41a"
      },
      "outputs": [
        {
          "output_type": "stream",
          "name": "stderr",
          "text": [
            "/usr/local/lib/python3.7/dist-packages/jax/_src/lib/xla_bridge.py:413: UserWarning: jax.host_count has been renamed to jax.process_count. This alias will eventually be removed; please update your code.\n",
            "  \"jax.host_count has been renamed to jax.process_count. This alias \"\n"
          ]
        },
        {
          "output_type": "stream",
          "name": "stdout",
          "text": [
            "\n",
            "Step      1: Total number of trainable weights: 1780117\n",
            "Step      1: Ran 1 train steps in 3.46 secs\n",
            "Step      1: train CrossEntropyLoss |  2.25952959\n",
            "Step      1: eval  CrossEntropyLoss |  1.44028807\n",
            "Step      1: eval          Accuracy |  0.85273907\n",
            "\n",
            "Step    100: Ran 99 train steps in 72.30 secs\n",
            "Step    100: train CrossEntropyLoss |  0.49867851\n",
            "Step    100: eval  CrossEntropyLoss |  0.23703857\n",
            "Step    100: eval          Accuracy |  0.93940526\n"
          ]
        }
      ],
      "source": [
        "train_steps = 100            # In coursera we can only train 100 steps\n",
        "!rm -f 'model/model.pkl.gz'  # Remove old model.pkl if it exists\n",
        "\n",
        "# Train the model\n",
        "training_loop = train_model(NER(), train_generator, eval_generator, train_steps)"
      ]
    },
    {
      "cell_type": "markdown",
      "metadata": {
        "id": "p1QvV66ZLr3i"
      },
      "source": [
        "**Expected output (Approximately)**\n",
        "\n",
        "```\n",
        "...\n",
        "Step      1: train CrossEntropyLoss |  2.94375849\n",
        "Step      1: eval  CrossEntropyLoss |  1.93172036\n",
        "Step      1: eval          Accuracy |  0.78727312\n",
        "Step    100: train CrossEntropyLoss |  0.57727730\n",
        "Step    100: eval  CrossEntropyLoss |  0.36356260\n",
        "Step    100: eval          Accuracy |  0.90943187\n",
        "...\n",
        "```\n",
        "This value may change between executions, but it must be around 90% of accuracy on train and validations sets, after 100 training steps."
      ]
    },
    {
      "cell_type": "markdown",
      "metadata": {
        "id": "lQTurbC0nCuh"
      },
      "source": [
        "We have trained the model longer, and we give you such a trained model. In that way, we ensure you can continue with the rest of the assignment even if you had some troubles up to here, and also we are sure that everybody will get the same outputs for the last example. However, you are free to try your model, as well. "
      ]
    },
    {
      "cell_type": "code",
      "execution_count": 44,
      "metadata": {
        "colab": {
          "base_uri": "https://localhost:8080/"
        },
        "id": "ecIG67nenCui",
        "scrolled": true,
        "outputId": "51f87813-56dc-4e09-98e3-aaf78c3c2b90"
      },
      "outputs": [
        {
          "output_type": "execute_result",
          "data": {
            "text/plain": [
              "((array([[ 0.14290063,  0.17106244,  0.18788001, ...,  0.36712393,\n",
              "          -0.29055458,  0.2935682 ],\n",
              "         [ 0.28986913,  0.07564789,  0.1022119 , ...,  0.23305444,\n",
              "           0.05909973, -0.04080577],\n",
              "         [-0.24286637,  0.02451395, -0.13365524, ..., -0.03154038,\n",
              "           0.06345794,  0.09368161],\n",
              "         ...,\n",
              "         [-0.14359361, -0.17826152,  0.15177363, ...,  0.20493111,\n",
              "           0.12298667, -0.03369273],\n",
              "         [-0.01205388, -0.12129617, -0.04191391, ...,  0.11822474,\n",
              "          -0.08993281, -0.00318424],\n",
              "         [-0.14675522,  0.07232195, -0.11931533, ...,  0.20580694,\n",
              "           0.18303633, -0.1838752 ]], dtype=float32),\n",
              "  (((), ((), ())),\n",
              "   ((array([[-0.12281041,  0.33538258,  0.37433028, ..., -0.5939856 ,\n",
              "             -0.4635411 ,  0.257863  ],\n",
              "            [-0.05560206, -0.03604714,  0.01825537, ...,  0.6086109 ,\n",
              "              0.58416283, -0.41126457],\n",
              "            [ 0.07221946, -0.2969662 , -0.33957765, ...,  0.29093435,\n",
              "              0.5143568 , -0.24794209],\n",
              "            ...,\n",
              "            [ 0.12965101,  0.21032962,  0.11055929, ...,  0.06628657,\n",
              "              0.02888898, -0.11340492],\n",
              "            [ 0.08032268,  0.0995143 ,  0.07348116, ...,  0.10097019,\n",
              "              0.12763718, -0.09546569],\n",
              "            [ 0.09156656,  0.17186749, -0.09510576, ...,  0.19084093,\n",
              "              0.28287384, -0.26302272]], dtype=float32),\n",
              "     array([1.1972694 , 1.197666  , 1.0432231 , 1.2409222 , 0.9342446 ,\n",
              "            1.1430243 , 1.1003342 , 1.0877812 , 1.0190748 , 1.5188514 ,\n",
              "            0.961691  , 1.1603023 , 1.1199148 , 1.1062276 , 1.1677316 ,\n",
              "            1.0135151 , 1.0651028 , 1.4381377 , 0.93545187, 1.0320805 ,\n",
              "            0.9580773 , 1.0099299 , 1.0009924 , 1.1546956 , 1.1060545 ,\n",
              "            1.1113267 , 1.3185655 , 0.9243934 , 1.1697663 , 1.1466236 ,\n",
              "            1.0279344 , 0.9717743 , 1.1198324 , 1.4625458 , 0.9353804 ,\n",
              "            1.2539902 , 1.2563289 , 1.0517666 , 1.1016042 , 1.1190518 ,\n",
              "            1.1518159 , 1.1351815 , 1.2662797 , 1.0415877 , 0.96471006,\n",
              "            0.97351813, 0.9371837 , 1.1606721 , 1.1653126 , 0.9634693 ,\n",
              "            1.1544743 , 1.0920254 , 0.84464365, 1.2179215 , 0.9450215 ,\n",
              "            1.1111408 , 1.0705568 , 1.0780159 , 0.6347285 , 1.0142865 ,\n",
              "            0.82154906, 1.1295844 , 1.0984795 , 0.74062353, 1.124595  ,\n",
              "            0.90101707, 1.054233  , 1.4143362 , 0.8962905 , 0.93818885,\n",
              "            0.9565965 , 1.0058681 , 0.6433046 , 1.0888753 , 0.90479183,\n",
              "            0.7802264 , 1.2167904 , 0.9147126 , 1.1556052 , 1.1706208 ,\n",
              "            0.5974944 , 0.9315481 , 1.0577518 , 1.358855  , 0.8711489 ,\n",
              "            1.24918   , 1.1512673 , 0.8249891 , 1.0846399 , 1.0921158 ,\n",
              "            1.1399045 , 1.1068839 , 1.2434053 , 0.75127333, 0.8464694 ,\n",
              "            0.87957495, 0.9051965 , 1.1338468 , 1.1940165 , 0.8262092 ,\n",
              "            1.1169826 , 1.0748749 , 0.7704183 , 1.0823644 , 0.9216531 ,\n",
              "            1.0785987 , 1.0684896 , 1.0670851 , 1.0015863 , 0.5859011 ,\n",
              "            0.9103364 , 1.0661876 , 1.072856  , 0.9354519 , 1.0622357 ,\n",
              "            0.7234092 , 1.0677196 , 1.0155298 , 0.9341951 , 1.0333952 ,\n",
              "            1.043421  , 1.040035  , 0.9148102 , 1.0574175 , 1.0210502 ,\n",
              "            0.9387112 , 1.0225238 , 0.9375738 , 1.0841657 , 1.068795  ,\n",
              "            0.9972202 , 0.946518  , 1.0572261 , 1.0598297 , 0.9114464 ,\n",
              "            1.0762577 , 1.0627064 , 0.99392015, 1.0702677 , 1.0773255 ,\n",
              "            1.0698519 , 1.0670844 , 1.1072065 , 1.0159297 , 0.9087791 ,\n",
              "            0.8950354 , 0.91986054, 1.0648515 , 1.0710989 , 0.9640003 ,\n",
              "            1.1115202 , 1.0959253 , 0.9928284 , 1.0580873 , 0.9446343 ,\n",
              "            1.0080545 , 0.9976767 , 1.0292352 , 1.053489  , 1.1757562 ,\n",
              "            0.9687632 , 1.0024672 , 1.0093349 , 1.0453718 , 0.98461926,\n",
              "            0.96296316, 0.9959416 , 0.939369  , 0.9478307 , 0.8913345 ,\n",
              "            1.083411  , 0.90826654, 0.9841456 , 0.95671254, 1.0868979 ,\n",
              "            1.0731293 , 1.0295895 , 0.9407773 , 1.069089  , 1.0251969 ,\n",
              "            1.137039  , 0.9798452 , 1.026209  , 1.0556077 , 0.9388713 ,\n",
              "            1.0297471 , 0.98959285, 1.0412227 , 1.039673  , 0.9661229 ,\n",
              "            1.0403172 , 0.99205184, 0.94703454, 1.0109684 , 0.96429145,\n",
              "            0.9541524 , 0.9526101 , 0.98570913, 0.9685732 , 0.97170496],\n",
              "           dtype=float32)),),\n",
              "   ()),\n",
              "  (array([[ 1.43722355e-01, -1.57071143e-01,  3.40801805e-01,\n",
              "           -1.79080039e-01,  2.33983129e-01,  1.14678741e-01,\n",
              "            3.66604537e-01, -9.25346538e-02, -3.72025102e-01,\n",
              "           -2.90170342e-01,  2.49150366e-01, -1.90865230e-02,\n",
              "           -2.00175658e-01,  6.97778072e-04,  1.47857457e-01,\n",
              "           -3.42324883e-01,  3.13293859e-02],\n",
              "          [ 1.58626717e-02,  3.03487182e-02, -1.86370611e-01,\n",
              "            1.06584378e-01, -2.34439746e-01,  4.20944124e-01,\n",
              "            7.87707642e-02, -5.94922490e-02, -3.60007763e-01,\n",
              "           -2.65960008e-01,  8.39366317e-02, -3.29067051e-01,\n",
              "            1.37772948e-01, -1.96257427e-01, -3.70535433e-01,\n",
              "           -2.03717947e-01, -1.89220488e-01],\n",
              "          [-2.35221013e-02,  4.86748815e-01,  4.29365456e-01,\n",
              "            3.82453948e-01,  7.93369561e-02,  3.75221997e-01,\n",
              "            7.64371976e-02,  4.26866740e-01,  8.45253766e-02,\n",
              "            1.71970233e-01, -9.96859521e-02,  1.53020144e-01,\n",
              "           -3.61475945e-02, -2.53542274e-01, -2.78762966e-01,\n",
              "           -2.34837949e-01, -1.48828626e-01],\n",
              "          [ 3.47068757e-01, -6.98159039e-02, -3.50814015e-01,\n",
              "            2.07788616e-01, -3.50146413e-01,  1.53022245e-01,\n",
              "            2.27432087e-01, -3.60133290e-01,  1.54749870e-01,\n",
              "           -2.90289193e-01,  2.91472346e-01, -1.65686384e-02,\n",
              "           -1.66920617e-01, -1.49586335e-01, -2.93069154e-01,\n",
              "           -2.24319831e-01,  6.02193736e-02],\n",
              "          [-8.74103978e-02,  1.74269244e-01,  3.85620087e-01,\n",
              "           -2.30005100e-01,  3.57723422e-02, -2.54238606e-03,\n",
              "            1.08638138e-01, -5.18263102e-01, -3.72107327e-01,\n",
              "            6.76285177e-02,  3.89045179e-01,  1.79837868e-01,\n",
              "            2.09425375e-01, -2.18155727e-01, -2.88373142e-01,\n",
              "            1.39353618e-01,  1.41389862e-01],\n",
              "          [ 4.04286146e-01, -8.40756223e-02, -4.17196572e-01,\n",
              "            9.49298441e-02, -2.17760932e-02, -6.45150095e-02,\n",
              "           -2.72876490e-02, -2.73481905e-01, -1.87512532e-01,\n",
              "            1.07945219e-01,  3.16555262e-01,  8.00468698e-02,\n",
              "           -1.47021279e-01, -1.78733200e-01, -3.24078143e-01,\n",
              "            5.10007776e-02,  1.82717592e-02],\n",
              "          [ 3.78875047e-01, -2.66145796e-01, -2.21601829e-01,\n",
              "           -3.44613254e-01, -2.31940344e-01, -2.13365063e-01,\n",
              "            2.20747367e-01, -4.78085019e-02,  9.54296589e-02,\n",
              "           -1.66446373e-01,  2.77644813e-01, -3.56970549e-01,\n",
              "            1.94882542e-01,  1.73250154e-01,  2.54616775e-02,\n",
              "           -6.41641468e-02, -2.09776759e-01],\n",
              "          [ 3.41439128e-01,  1.89519022e-02, -8.03080723e-02,\n",
              "            8.19453299e-02, -1.16368728e-02, -4.52693962e-02,\n",
              "           -2.97064781e-02,  2.55053937e-01,  1.34118706e-01,\n",
              "           -7.83454999e-03, -2.61537731e-01, -3.61347526e-01,\n",
              "            9.05409306e-02, -3.90715897e-01, -2.02239528e-01,\n",
              "           -3.18489611e-01,  1.84613536e-03],\n",
              "          [ 2.05280527e-01, -3.06811154e-01,  1.65465578e-01,\n",
              "           -3.11127245e-01, -4.89945486e-02, -3.89103025e-01,\n",
              "           -8.88722464e-02, -1.69309154e-01,  2.18222082e-01,\n",
              "            2.09759995e-01, -1.46795541e-01,  1.56448260e-01,\n",
              "           -2.84853876e-01, -1.34759709e-01, -3.38380374e-02,\n",
              "           -1.94717906e-02, -2.51896113e-01],\n",
              "          [ 9.47856978e-02,  4.79345143e-01, -3.46864074e-01,\n",
              "            5.75974762e-01, -3.39748234e-01,  4.43718344e-01,\n",
              "           -3.46799195e-01,  5.20599008e-01, -3.14825326e-01,\n",
              "           -4.49679084e-02, -3.84816855e-01, -4.22276407e-02,\n",
              "           -9.04498026e-02,  1.14023581e-01,  1.73952445e-01,\n",
              "            1.28022626e-01, -1.70415699e-01],\n",
              "          [-3.34271863e-02,  5.94773829e-01,  7.33964145e-01,\n",
              "           -1.57352999e-01, -3.79784316e-01,  4.00117002e-02,\n",
              "           -4.39726025e-01, -5.99445581e-01,  1.32666051e-01,\n",
              "           -1.12055957e-01, -2.95629382e-01,  1.56404182e-01,\n",
              "           -2.51213610e-01,  1.97401628e-01, -1.91869512e-01,\n",
              "            1.29317954e-01, -8.31978396e-02],\n",
              "          [ 3.62439692e-01, -2.82290339e-01, -3.28646004e-01,\n",
              "            6.76102787e-02, -1.28089204e-01,  1.64665785e-02,\n",
              "           -2.16619670e-01, -9.20664705e-03, -9.38980579e-02,\n",
              "           -2.92548954e-01,  6.00396730e-02, -1.73187017e-01,\n",
              "           -9.55869630e-02,  1.00798629e-01, -3.00851762e-01,\n",
              "           -1.34515420e-01, -2.19481140e-01],\n",
              "          [ 4.30265427e-01, -2.59784907e-01, -1.02499805e-01,\n",
              "            1.64539829e-01, -7.52549469e-02,  1.01693124e-01,\n",
              "           -7.09782541e-02, -1.90136164e-01, -2.44633198e-01,\n",
              "           -2.49337122e-01, -6.97842985e-02, -3.20425183e-01,\n",
              "           -1.31525397e-01,  1.74452409e-01, -1.83186948e-01,\n",
              "           -2.64551073e-01, -1.60308614e-01],\n",
              "          [ 4.64857370e-02, -2.44088784e-01, -4.98945028e-01,\n",
              "           -2.57908460e-02, -5.30690789e-01, -4.95956838e-01,\n",
              "           -6.14742279e-01, -2.71899581e-01,  5.29103652e-02,\n",
              "           -2.29751751e-01, -3.62722069e-01,  1.73476189e-01,\n",
              "           -8.23469907e-02,  1.45714238e-01, -3.50349933e-01,\n",
              "            1.27540544e-01, -3.43858391e-01],\n",
              "          [ 2.30262488e-01, -1.52271867e-01,  1.53802216e-01,\n",
              "           -8.69464576e-02,  3.83428000e-02, -7.42665157e-02,\n",
              "           -6.36568367e-02, -2.80312687e-01,  1.46442339e-01,\n",
              "            3.87402773e-02, -1.07730679e-01, -3.15540999e-01,\n",
              "           -1.97511464e-01, -1.72773615e-01, -1.44500911e-01,\n",
              "           -3.22884858e-01, -3.47942889e-01],\n",
              "          [ 2.12104316e-03,  6.22085273e-01,  6.50571048e-01,\n",
              "           -1.56023309e-01,  3.84605043e-02,  3.70096624e-01,\n",
              "           -2.38454536e-01, -8.65442216e-01, -2.17944935e-01,\n",
              "           -7.41412938e-02,  3.55246544e-01, -2.39014909e-01,\n",
              "            3.09332311e-02,  1.80591755e-02,  7.27231055e-02,\n",
              "            1.46885827e-01, -9.60330293e-02],\n",
              "          [ 1.89315334e-01, -2.64828503e-01, -1.83491632e-01,\n",
              "           -2.94495463e-01, -1.32926837e-01, -2.32079715e-01,\n",
              "            3.55405927e-01,  3.60791385e-01, -2.67324239e-01,\n",
              "            5.48738465e-02, -3.35221529e-01, -2.35549748e-01,\n",
              "            3.11457887e-02, -2.96636730e-01, -1.37098953e-01,\n",
              "            6.85919598e-02,  4.62628491e-02],\n",
              "          [ 1.45374015e-01,  4.22562301e-01, -4.30855334e-01,\n",
              "            3.50418031e-01, -2.26338923e-01,  3.46610516e-01,\n",
              "           -3.51874471e-01,  3.10414612e-01,  6.55816272e-02,\n",
              "           -3.94264646e-02, -2.79942937e-02, -3.73362243e-01,\n",
              "           -1.06828079e-01, -1.75662637e-02, -3.19059134e-01,\n",
              "           -3.50782096e-01, -1.72292218e-02],\n",
              "          [-1.24095328e-01, -4.15036917e-01, -3.98414820e-01,\n",
              "            1.65149465e-01, -3.80256206e-01,  2.09869519e-01,\n",
              "            8.34161192e-02, -8.04567873e-01, -1.86947227e-01,\n",
              "           -1.41974926e-01, -1.82835653e-01,  1.98008060e-01,\n",
              "           -6.00543439e-01, -2.45994374e-01,  9.96985063e-02,\n",
              "            9.60695669e-02,  1.33693486e-01],\n",
              "          [ 2.00926781e-01,  3.71060282e-01,  1.88083097e-01,\n",
              "           -1.64603606e-01, -3.66898328e-01, -1.54125929e-01,\n",
              "           -1.40267760e-01,  8.62406790e-02,  2.59287981e-03,\n",
              "           -8.20371211e-02, -1.00227028e-01, -2.67525971e-01,\n",
              "            1.64962895e-02, -1.04244677e-02,  2.17627399e-02,\n",
              "            4.50096913e-02, -4.50668857e-02],\n",
              "          [ 6.59057349e-02, -4.86293256e-01, -2.14459822e-01,\n",
              "           -4.09177780e-01,  2.62908071e-01, -4.71423209e-01,\n",
              "            1.31360456e-01, -4.72221464e-01,  6.24786224e-03,\n",
              "           -2.78073251e-02,  1.23408616e-01, -3.03451687e-01,\n",
              "            3.89161736e-01, -1.70770437e-01, -1.29062667e-01,\n",
              "            8.56284332e-03, -3.91965181e-01],\n",
              "          [ 3.92466374e-02,  1.55673614e-02, -1.65978633e-02,\n",
              "           -2.93202162e-01, -2.72994488e-01, -4.67276908e-02,\n",
              "           -2.40940060e-02,  1.10438943e-01, -3.00108731e-01,\n",
              "           -4.64660078e-02,  1.48693351e-02, -2.70577580e-01,\n",
              "            6.85957894e-02, -3.91152710e-01, -2.74001658e-01,\n",
              "            1.13337405e-01,  5.71799912e-02],\n",
              "          [ 2.92501654e-02,  7.69193888e-01,  7.94580519e-01,\n",
              "           -5.10136306e-01, -1.70495644e-01, -1.28420800e-01,\n",
              "           -1.52226374e-01, -6.04213834e-01, -2.57548064e-01,\n",
              "            1.31797865e-01, -5.23155093e-01, -3.15591812e-01,\n",
              "           -2.08127812e-01,  1.34059101e-01,  1.44190177e-01,\n",
              "           -3.26946884e-01,  2.55375579e-02],\n",
              "          [ 2.60597914e-01, -1.93074360e-01, -2.18452469e-01,\n",
              "            2.35033017e-02, -8.69528949e-02, -2.33969942e-01,\n",
              "           -1.56486809e-01,  4.73238900e-02, -2.09392942e-02,\n",
              "           -1.21900402e-01, -1.98819831e-01, -4.21312511e-01,\n",
              "            2.55638540e-01, -2.22347751e-01, -7.08135888e-02,\n",
              "           -4.09569621e-01, -3.42800990e-02],\n",
              "          [-8.49728808e-02,  6.21134758e-01, -1.13472886e-01,\n",
              "            4.15135413e-01,  2.91653335e-01, -2.59614468e-01,\n",
              "            3.11365664e-01, -1.37749791e-01, -2.44653642e-01,\n",
              "           -1.08228825e-01,  5.67485929e-01, -7.11072087e-02,\n",
              "            2.20633656e-01,  1.32128626e-01,  1.17307216e-01,\n",
              "           -4.04544920e-01, -2.87506074e-01],\n",
              "          [ 3.05435415e-02, -3.41091640e-02,  7.76419044e-01,\n",
              "           -5.13702333e-02, -4.05286938e-01,  3.65586281e-01,\n",
              "           -4.63752180e-01,  1.16610423e-01, -3.64762962e-01,\n",
              "           -7.26589859e-02, -2.30091125e-01, -1.34917526e-02,\n",
              "           -6.69157386e-01, -1.28852902e-02,  4.66463119e-02,\n",
              "           -2.55662084e-01,  1.93428889e-01],\n",
              "          [ 1.81309417e-01, -2.56797433e-01, -4.90755498e-01,\n",
              "            3.56858343e-01, -2.67417222e-01, -3.61520886e-01,\n",
              "            2.52359152e-01,  2.65047729e-01, -2.55186290e-01,\n",
              "            8.79530460e-02, -2.72389591e-01, -1.90697819e-01,\n",
              "           -2.99614102e-01, -3.23272735e-01, -2.01424643e-01,\n",
              "           -2.94087946e-01,  1.69308931e-01],\n",
              "          [-1.72592357e-01,  4.89777103e-02, -6.54126517e-03,\n",
              "            1.11528993e-01, -2.57550955e-01,  1.86056614e-01,\n",
              "           -9.07941386e-02, -1.01103909e-01,  6.04499876e-02,\n",
              "            1.91556841e-01,  4.51956272e-01, -3.86968613e-01,\n",
              "           -3.35014343e-01,  9.59597081e-02, -3.51419449e-01,\n",
              "           -7.17812404e-02,  1.21747501e-01],\n",
              "          [ 4.63731512e-02, -1.71731412e-01,  2.43248478e-01,\n",
              "            2.03717113e-01,  3.08683485e-01,  3.74333352e-01,\n",
              "           -1.59030229e-01, -2.74249583e-01, -2.55213588e-01,\n",
              "           -2.92856783e-01,  1.57907709e-01, -9.34975222e-02,\n",
              "           -2.09301144e-01, -3.90190631e-01,  4.94689792e-02,\n",
              "            1.20013140e-01, -3.84840012e-01],\n",
              "          [ 3.12005758e-01,  3.50402445e-01,  2.84618139e-01,\n",
              "            5.96391000e-02,  1.97991207e-01, -1.68848366e-01,\n",
              "           -1.37065634e-01, -1.30466223e-01, -2.31222644e-01,\n",
              "           -2.12262526e-01,  1.40414372e-01, -1.05507277e-01,\n",
              "           -5.19680232e-02, -1.38384476e-01,  9.72579494e-02,\n",
              "           -2.87805479e-02, -1.68145493e-01],\n",
              "          [-2.37610899e-02,  2.67451853e-01,  4.54095781e-01,\n",
              "           -3.93004686e-01, -2.65149176e-01, -1.48105636e-01,\n",
              "           -3.03213507e-01,  1.72829889e-02,  1.22761816e-01,\n",
              "           -1.37408629e-01, -5.06249726e-01,  1.13318294e-01,\n",
              "           -5.03694177e-01, -2.72280455e-01, -3.71874012e-02,\n",
              "           -3.10320109e-01,  1.71051603e-02],\n",
              "          [-1.35744408e-01, -4.20012861e-01, -5.15739247e-02,\n",
              "            4.48845029e-01, -5.66679128e-02,  2.91602939e-01,\n",
              "            7.73809478e-02, -6.87123775e-01, -1.60791293e-01,\n",
              "            1.30374944e-02,  9.88729745e-02, -1.71269163e-01,\n",
              "           -3.17507923e-01, -4.32430506e-02, -4.87926900e-02,\n",
              "           -1.88850150e-01, -6.77958801e-02],\n",
              "          [ 3.00688386e-01,  2.13261709e-01,  2.62182057e-01,\n",
              "           -2.13840410e-01,  3.30104642e-02,  9.43136588e-03,\n",
              "           -1.84555709e-01, -1.42817140e-01, -1.66000724e-01,\n",
              "           -6.40023276e-02, -1.95972189e-01, -2.00274587e-01,\n",
              "            3.05392116e-01, -2.07327321e-01, -9.49653238e-03,\n",
              "           -1.85330793e-01, -3.57971817e-01],\n",
              "          [ 1.20681256e-01,  3.56310830e-02,  7.54462406e-02,\n",
              "            3.31996232e-01, -3.14288065e-02,  1.77107796e-01,\n",
              "           -3.39119971e-01, -4.14929658e-01,  1.51356682e-01,\n",
              "           -7.70810023e-02,  1.36627741e-02, -1.25418991e-01,\n",
              "           -2.92164981e-01, -2.47541457e-01, -4.03856069e-01,\n",
              "            1.07634440e-01, -2.40100786e-01],\n",
              "          [-1.09263048e-01,  9.59011987e-02, -2.03820974e-01,\n",
              "           -3.23465705e-01, -9.49832723e-02, -1.34903602e-02,\n",
              "           -6.93641961e-01,  3.88043582e-01, -2.54147559e-01,\n",
              "           -1.29141197e-01, -3.12915221e-02, -2.66207635e-01,\n",
              "           -1.27239570e-01, -2.72087734e-02,  1.20625645e-01,\n",
              "            6.65490329e-02,  3.23091932e-02],\n",
              "          [ 3.04840416e-01, -3.39650571e-01, -3.61033320e-01,\n",
              "            1.42029941e-01, -4.54925820e-02,  7.82071576e-02,\n",
              "           -1.62670970e-01,  8.52990244e-03, -3.16479325e-01,\n",
              "           -1.10142604e-01,  2.45873988e-01,  9.73464698e-02,\n",
              "            2.94607490e-01, -1.20201726e-02, -1.39624313e-01,\n",
              "           -3.49679999e-02, -9.51662883e-02],\n",
              "          [ 1.72436699e-01, -4.72020097e-02,  4.37679708e-01,\n",
              "           -8.63345042e-02, -8.14484358e-02,  3.93974364e-01,\n",
              "           -1.12808838e-01, -3.24475728e-02, -2.90257156e-01,\n",
              "           -2.98510671e-01, -1.58873275e-01, -3.05431068e-01,\n",
              "           -2.72703439e-01,  7.48499157e-03, -1.38022304e-01,\n",
              "           -3.69167738e-02, -4.48457785e-02],\n",
              "          [ 3.62531096e-01,  2.67890215e-01,  1.14889108e-01,\n",
              "           -3.23225260e-01,  3.79682006e-03, -1.82866484e-01,\n",
              "           -3.06898206e-01,  3.90695989e-01, -2.95423567e-01,\n",
              "           -6.83908630e-03, -2.63747424e-01, -2.60177910e-01,\n",
              "            1.96483061e-01, -2.11043760e-01, -3.29671919e-01,\n",
              "            1.38984457e-01, -2.17830017e-01],\n",
              "          [ 2.85690993e-01,  6.68067560e-02,  1.98229831e-02,\n",
              "           -1.96853206e-01,  7.50954524e-02, -1.99230626e-01,\n",
              "            1.26233026e-01,  1.28906071e-02, -1.51730239e-01,\n",
              "           -2.68376529e-01,  7.69014657e-02, -3.62502813e-01,\n",
              "           -1.00810289e-01, -9.28208157e-02, -1.34594277e-01,\n",
              "            6.08728686e-03, -8.14581141e-02],\n",
              "          [ 2.24247158e-01, -6.95873797e-02, -2.23711878e-01,\n",
              "            7.79293850e-02,  2.30750456e-01, -1.71824932e-01,\n",
              "           -1.26774535e-01, -2.20593020e-01,  1.61493160e-02,\n",
              "           -6.31501898e-02, -1.68704540e-01, -5.33987582e-02,\n",
              "           -9.51628461e-02, -1.77344531e-02,  1.01982772e-01,\n",
              "           -3.67008954e-01, -3.78066599e-01],\n",
              "          [ 2.23617733e-01, -3.26777995e-02, -1.39931649e-01,\n",
              "           -1.32830381e-01, -3.34149629e-01,  9.67491120e-02,\n",
              "            2.70660639e-01,  5.21120895e-03, -3.96041840e-01,\n",
              "           -3.58247250e-01, -2.99925387e-01, -1.04127556e-01,\n",
              "           -2.95306772e-01, -7.22965449e-02, -4.02139783e-01,\n",
              "           -4.09709543e-01, -1.84894845e-01],\n",
              "          [ 3.95722896e-01, -1.04939286e-02, -2.88600057e-01,\n",
              "            1.75836720e-02, -2.19738677e-01,  2.55830064e-02,\n",
              "            2.14115292e-01, -1.18338559e-02, -1.42294198e-01,\n",
              "            7.16282055e-02, -3.59827876e-02,  1.01795360e-01,\n",
              "           -2.72604227e-01, -5.08070067e-02, -3.06148082e-02,\n",
              "           -1.69414163e-01, -1.59280568e-01],\n",
              "          [ 1.34475473e-02,  4.08093899e-01,  5.30794263e-01,\n",
              "            4.77489561e-01,  2.67973036e-01,  3.54365736e-01,\n",
              "            2.20518708e-01,  1.26086801e-01,  7.07471296e-02,\n",
              "            4.74125259e-02, -1.47616863e-01, -1.93840027e-01,\n",
              "           -1.58978418e-01, -3.65363002e-01, -4.56730783e-01,\n",
              "           -1.74235880e-01, -1.96468323e-01],\n",
              "          [ 4.10740599e-02, -3.44233572e-01, -5.87190092e-01,\n",
              "            3.89739037e-01, -4.45798635e-01, -5.57042897e-01,\n",
              "           -2.81377256e-01, -2.31158689e-01, -2.63727725e-01,\n",
              "            6.48474321e-02,  7.02835977e-01, -2.34522119e-01,\n",
              "           -4.99726087e-01,  1.61927283e-01, -2.88890719e-01,\n",
              "            1.43920034e-01, -8.09657946e-03],\n",
              "          [-2.86102891e-02, -3.49199802e-01, -4.76101153e-02,\n",
              "           -3.79183173e-01,  2.22889036e-01, -3.65487128e-01,\n",
              "           -1.76708594e-01, -5.47127724e-01,  1.11481145e-01,\n",
              "           -7.10992217e-02, -4.10500973e-01, -2.15058506e-01,\n",
              "           -2.61597067e-01,  1.79986447e-01, -3.37019749e-02,\n",
              "           -2.63103135e-02, -1.99776888e-01],\n",
              "          [-4.37902799e-03,  3.89791161e-01, -1.92105293e-01,\n",
              "            1.95908621e-01,  3.06617051e-01, -7.35422224e-02,\n",
              "            1.57442987e-01, -7.56343067e-01,  8.17585811e-02,\n",
              "           -1.16428077e-01, -3.28989834e-01, -2.89001375e-01,\n",
              "           -3.51322144e-01,  2.03318700e-01, -3.80937010e-01,\n",
              "           -1.46577716e-01,  3.01971529e-02],\n",
              "          [-8.88001770e-02, -4.33253050e-01,  4.32684124e-01,\n",
              "           -1.52673170e-01,  4.90421057e-02, -1.33195043e-01,\n",
              "           -2.30737049e-02,  1.25517607e-01, -3.36718895e-02,\n",
              "           -3.43957543e-02,  4.05021459e-01, -1.45753220e-01,\n",
              "            4.28566262e-02, -8.30102414e-02, -1.72449350e-02,\n",
              "            1.16690248e-02,  2.05778912e-01],\n",
              "          [ 4.08612430e-01, -1.95066497e-01, -5.47933355e-02,\n",
              "            1.48488462e-01,  6.30011708e-02,  9.39377695e-02,\n",
              "           -1.10982880e-01,  1.44377664e-01, -2.55554020e-01,\n",
              "            6.27384409e-02, -1.73291266e-01, -1.74269855e-01,\n",
              "            1.25747353e-01,  1.18785314e-01, -2.31863275e-01,\n",
              "           -4.30226400e-02, -3.41525853e-01],\n",
              "          [ 3.44995677e-01,  9.08528939e-02,  1.35198876e-01,\n",
              "            9.75508243e-02, -3.41655672e-01, -1.22694544e-01,\n",
              "           -6.85412735e-02, -6.60884157e-02,  1.45071998e-01,\n",
              "           -1.58388704e-01,  1.44470975e-01, -2.26903684e-03,\n",
              "            2.03727931e-01, -1.19991846e-01, -2.61168838e-01,\n",
              "           -1.82485625e-01,  1.58708394e-01],\n",
              "          [-3.24887522e-02, -4.68937933e-01, -6.67035505e-02,\n",
              "           -1.24353550e-01, -4.41025883e-01,  1.19752303e-01,\n",
              "           -2.92880237e-01, -6.37618542e-01, -7.38116503e-02,\n",
              "           -2.67446846e-01, -5.16181946e-01, -1.71603844e-01,\n",
              "           -1.49603963e-01,  1.99744567e-01, -1.40008524e-01,\n",
              "           -1.51389629e-01,  1.34458378e-01]], dtype=float32),\n",
              "   array([ 0.08633211,  0.04121666,  0.11023892,  0.14496632, -0.03225409,\n",
              "           0.18629126, -0.00758268,  0.00912379, -0.14564407, -0.1447981 ,\n",
              "          -0.05670815, -0.16463864,  0.02014619, -0.11894476, -0.16583629,\n",
              "          -0.14455706, -0.15305555], dtype=float32)),\n",
              "  ()),\n",
              " ((), (((), ((), ())), ((), ()), ()), (), ()))"
            ]
          },
          "metadata": {},
          "execution_count": 44
        }
      ],
      "source": [
        "# loading in a pretrained model..\n",
        "model = NER()\n",
        "model.init(trax.shapes.ShapeDtype((1, 1), dtype=np.int32))\n",
        "\n",
        "# Load the pretrained model\n",
        "model.init_from_file('/content/model/model.pkl.gz', weights_only=True)"
      ]
    },
    {
      "cell_type": "markdown",
      "metadata": {
        "id": "c4r-gXOZLr3j"
      },
      "source": [
        "<a name=\"4\"></a>\n",
        "# Part 4:  Compute Accuracy\n",
        "\n",
        "You will now evaluate in the test set. Previously, you have seen the accuracy on the training set and the validation (noted as eval) set. You will now evaluate on your test set. To get a good evaluation, you will need to create a mask to avoid counting the padding tokens when computing the accuracy. \n",
        "\n",
        "<a name=\"ex04\"></a>\n",
        "### Exercise 04\n",
        "\n",
        "**Instructions:** Write a program that takes in your model and uses it to evaluate on the test set. You should be able to get an accuracy of 95%.  \n"
      ]
    },
    {
      "cell_type": "markdown",
      "metadata": {
        "id": "AmIvd_GXnCuk"
      },
      "source": [
        "\n",
        "<details>    \n",
        "<summary>\n",
        "    <font size=\"3\" color=\"darkgreen\"><b>More Detailed Instructions </b></font>\n",
        "</summary>\n",
        "\n",
        "* *Step 1*: model(sentences) will give you the predicted output. \n",
        "\n",
        "* *Step 2*: Prediction will produce an output with an added dimension. For each sentence, for each word, there will be a vector of probabilities for each tag type. For each sentence,word, you need to pick the maximum valued tag. This will require `np.argmax` and careful use of the `axis` argument.\n",
        "* *Step 3*: Create a mask to prevent counting pad characters. It has the same dimension as output. An example below on matrix comparison provides a hint.\n",
        "* *Step 4*: Compute the accuracy metric by comparing your outputs against your test labels. Take the sum of that and divide by the total number of **unpadded** tokens. Use your mask value to mask the padded tokens. Return the accuracy. \n",
        "</detail>"
      ]
    },
    {
      "cell_type": "code",
      "execution_count": 46,
      "metadata": {
        "colab": {
          "base_uri": "https://localhost:8080/"
        },
        "id": "qaSy_NywnCul",
        "outputId": "d466c48c-eb3a-4adb-a9f2-cd25a59631f2",
        "scrolled": true
      },
      "outputs": [
        {
          "output_type": "execute_result",
          "data": {
            "text/plain": [
              "array([False,  True, False, False])"
            ]
          },
          "metadata": {},
          "execution_count": 46
        }
      ],
      "source": [
        "#Example of a comparision on a matrix \n",
        "a = np.array([1, 2, 3, 4])\n",
        "a == 2"
      ]
    },
    {
      "cell_type": "code",
      "execution_count": 47,
      "metadata": {
        "colab": {
          "base_uri": "https://localhost:8080/"
        },
        "id": "3H0Kx1rnnCun",
        "outputId": "1175bca0-58e3-44b0-b7eb-77044be9b4c7",
        "scrolled": true
      },
      "outputs": [
        {
          "output_type": "stream",
          "name": "stdout",
          "text": [
            "input shapes (7194, 70) (7194, 70)\n"
          ]
        }
      ],
      "source": [
        "# create the evaluation inputs\n",
        "x, y = next(data_generator(len(test_sentences), test_sentences, test_labels, vocab['<PAD>']))\n",
        "print(\"input shapes\", x.shape, y.shape)"
      ]
    },
    {
      "cell_type": "code",
      "execution_count": 48,
      "metadata": {
        "colab": {
          "base_uri": "https://localhost:8080/"
        },
        "id": "rh16zSTonCuq",
        "outputId": "09aabb15-6d00-4a8c-9bd0-cc248fd36a43"
      },
      "outputs": [
        {
          "output_type": "stream",
          "name": "stdout",
          "text": [
            "<class 'jaxlib.xla_extension.DeviceArray'>\n",
            "tmp_pred has shape: (7194, 70, 17)\n"
          ]
        }
      ],
      "source": [
        "# sample prediction\n",
        "tmp_pred = model(x)\n",
        "print(type(tmp_pred))\n",
        "print(f\"tmp_pred has shape: {tmp_pred.shape}\")"
      ]
    },
    {
      "cell_type": "markdown",
      "metadata": {
        "id": "78l5MTSBnCut"
      },
      "source": [
        "Note that the model's prediction has 3 axes: \n",
        "- the number of examples\n",
        "- the number of words in each example (padded to be as long as the longest sentence in the batch)\n",
        "- the number of possible targets (the 17 named entity tags)."
      ]
    },
    {
      "cell_type": "code",
      "execution_count": 49,
      "metadata": {
        "id": "8ek59ro9nCut"
      },
      "outputs": [],
      "source": [
        "# UNQ_C4 (UNIQUE CELL IDENTIFIER, DO NOT EDIT)\n",
        "# GRADED FUNCTION: evaluate_prediction\n",
        "def evaluate_prediction(pred, labels, pad):\n",
        "    \"\"\"\n",
        "    Inputs:\n",
        "        pred: prediction array with shape \n",
        "            (num examples, max sentence length in batch, num of classes)\n",
        "        labels: array of size (batch_size, seq_len)\n",
        "        pad: integer representing pad character\n",
        "    Outputs:\n",
        "        accuracy: float\n",
        "    \"\"\"\n",
        "    ### START CODE HERE (Replace instances of 'None' with your code) ###\n",
        "## step 1 ##\n",
        "    outputs = np.argmax(pred, axis=2)\n",
        "    print(\"outputs shape:\", outputs.shape)\n",
        "\n",
        "## step 2 ##\n",
        "    mask = labels != pad\n",
        "    print(\"mask shape:\", mask.shape, \"mask[0][20:30]:\", mask[0][20:30])\n",
        "## step 3 ##\n",
        "    accuracy = np.sum(outputs == labels) / float(np.sum(mask))\n",
        "    ### END CODE HERE ###\n",
        "    return accuracy\n"
      ]
    },
    {
      "cell_type": "code",
      "execution_count": 50,
      "metadata": {
        "colab": {
          "base_uri": "https://localhost:8080/"
        },
        "id": "yCWFwt3m1sgL",
        "outputId": "c851edf9-72ae-4afc-9abc-c42fca0b3711",
        "scrolled": true
      },
      "outputs": [
        {
          "output_type": "stream",
          "name": "stdout",
          "text": [
            "outputs shape: (7194, 70)\n",
            "mask shape: (7194, 70) mask[0][20:30]: [ True  True  True False False False False False False False]\n",
            "accuracy:  0.93907213\n"
          ]
        }
      ],
      "source": [
        "accuracy = evaluate_prediction(model(x), y, vocab['<PAD>'])\n",
        "print(\"accuracy: \", accuracy)"
      ]
    },
    {
      "cell_type": "markdown",
      "metadata": {
        "id": "NcTJupqo5RcP"
      },
      "source": [
        "**Expected output (Approximately)**   \n",
        "```\n",
        "outputs shape: (7194, 70)\n",
        "mask shape: (7194, 70) mask[0][20:30]: [ True  True  True False False False False False False False]\n",
        "accuracy:  0.9543761281155191\n",
        "```\n"
      ]
    },
    {
      "cell_type": "markdown",
      "metadata": {
        "id": "b2FEleAFLr3r"
      },
      "source": [
        "<a name=\"5\"></a>\n",
        "# Part 5:  Testing with your own sentence\n"
      ]
    },
    {
      "cell_type": "markdown",
      "metadata": {
        "id": "EOeTPAx_Lr3t"
      },
      "source": [
        "Below, you can test it out with your own sentence! "
      ]
    },
    {
      "cell_type": "code",
      "execution_count": 51,
      "metadata": {
        "id": "0K4SyB20cHRf",
        "scrolled": true
      },
      "outputs": [],
      "source": [
        "# This is the function you will be using to test your own sentence.\n",
        "def predict(sentence, model, vocab, tag_map):\n",
        "    s = [vocab[token] if token in vocab else vocab['UNK'] for token in sentence.split(' ')]\n",
        "    batch_data = np.ones((1, len(s)))\n",
        "    batch_data[0][:] = s\n",
        "    sentence = np.array(batch_data).astype(int)\n",
        "    output = model(sentence)\n",
        "    outputs = np.argmax(output, axis=2)\n",
        "    labels = list(tag_map.keys())\n",
        "    pred = []\n",
        "    for i in range(len(outputs[0])):\n",
        "        idx = outputs[0][i] \n",
        "        pred_label = labels[idx]\n",
        "        pred.append(pred_label)\n",
        "    return pred"
      ]
    },
    {
      "cell_type": "code",
      "execution_count": 52,
      "metadata": {
        "colab": {
          "base_uri": "https://localhost:8080/"
        },
        "id": "vLZCHoiULr3u",
        "outputId": "905cd3d9-c99a-4e3f-f64c-8e28a7a43dc0",
        "scrolled": true
      },
      "outputs": [
        {
          "output_type": "stream",
          "name": "stdout",
          "text": [
            "Peter B-per\n",
            "White B-org\n",
            "House I-org\n",
            "Sunday B-tim\n",
            "morning I-tim\n",
            "White B-org\n",
            "House I-org\n"
          ]
        }
      ],
      "source": [
        "# Try the output for the introduction example\n",
        "#sentence = \"Many French citizens are goin to visit Morocco for summer\"\n",
        "#sentence = \"Sharon Floyd flew to Miami last Friday\"\n",
        "\n",
        "# New york times news:\n",
        "sentence = \"Peter Navarro, the White House director of trade and manufacturing policy of U.S, said in an interview on Sunday morning that the White House was working to prepare for the possibility of a second wave of the coronavirus in the fall, though he said it wouldn’t necessarily come\"\n",
        "s = [vocab[token] if token in vocab else vocab['UNK'] for token in sentence.split(' ')]\n",
        "predictions = predict(sentence, model, vocab, tag_map)\n",
        "for x,y in zip(sentence.split(' '), predictions):\n",
        "    if y != 'O':\n",
        "        print(x,y)"
      ]
    },
    {
      "cell_type": "markdown",
      "metadata": {
        "id": "NHYbSnYKnCu6"
      },
      "source": [
        "** Expected Results **\n",
        "\n",
        "```\n",
        "Peter B-per\n",
        "Navarro, I-per\n",
        "White B-org\n",
        "House I-org\n",
        "Sunday B-tim\n",
        "morning I-tim\n",
        "White B-org\n",
        "House I-org\n",
        "coronavirus B-tim\n",
        "fall, B-tim\n",
        "```"
      ]
    }
  ],
  "metadata": {
    "accelerator": "GPU",
    "colab": {
      "collapsed_sections": [],
      "name": "C3_W3_Assignment.ipynb",
      "provenance": []
    },
    "coursera": {
      "schema_names": [
        "NLPC3-3A"
      ]
    },
    "kernelspec": {
      "display_name": "Python 3",
      "language": "python",
      "name": "python3"
    },
    "language_info": {
      "codemirror_mode": {
        "name": "ipython",
        "version": 3
      },
      "file_extension": ".py",
      "mimetype": "text/x-python",
      "name": "python",
      "nbconvert_exporter": "python",
      "pygments_lexer": "ipython3",
      "version": "3.7.1"
    }
  },
  "nbformat": 4,
  "nbformat_minor": 0
}